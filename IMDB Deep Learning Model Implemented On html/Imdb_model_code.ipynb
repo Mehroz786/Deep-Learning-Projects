{
  "cells": [
    {
      "cell_type": "markdown",
      "metadata": {
        "id": "NzfLbkUxA8ul"
      },
      "source": [
        "Loading the Data Set IMBD\n",
        "\n",
        "Just like the MNIST dataset, the IMDB dataset comes packaged with Keras. It has already been preprocessed: the reviews (sequences of words) have been turned into sequences of integers, where each integer stands for a specific word in a dictionary.\n",
        "\n",
        "The following code will load the dataset (when you run it the first time, about 80 MB of data will be downloaded to your machine)."
      ]
    },
    {
      "cell_type": "code",
      "execution_count": 26,
      "metadata": {
        "id": "qWI-drIfZ9jY"
      },
      "outputs": [],
      "source": [
        "from keras.datasets import imdb\n",
        "\n",
        "(train_data , train_label) ,(test_data, test_lables) = imdb.load_data(num_words=10000)\n",
        "# num_words = 1000 means that most accuring 1000 words\n",
        "# here tokenization is already done in load_data function"
      ]
    },
    {
      "cell_type": "markdown",
      "metadata": {
        "id": "NDLEf10FcuSf"
      },
      "source": [
        "Reviews are already pre-processed as we can not train network with string data "
      ]
    },
    {
      "cell_type": "code",
      "execution_count": 27,
      "metadata": {
        "colab": {
          "base_uri": "https://localhost:8080/"
        },
        "id": "h7XXvTh-cle-",
        "outputId": "14347dde-5c85-4ceb-f0d0-72f05ecfb8b0"
      },
      "outputs": [
        {
          "name": "stdout",
          "output_type": "stream",
          "text": [
            "Returns the tokinization form of the data\n",
            " [1, 14, 22, 16, 43, 530, 973, 1622, 1385, 65, 458, 4468, 66, 3941, 4, 173, 36, 256, 5, 25, 100, 43, 838, 112, 50, 670, 2, 9, 35, 480, 284, 5, 150, 4, 172, 112, 167, 2, 336, 385, 39, 4, 172, 4536, 1111, 17, 546, 38, 13, 447, 4, 192, 50, 16, 6, 147, 2025, 19, 14, 22, 4, 1920, 4613, 469, 4, 22, 71, 87, 12, 16, 43, 530, 38, 76, 15, 13, 1247, 4, 22, 17, 515, 17, 12, 16, 626, 18, 2, 5, 62, 386, 12, 8, 316, 8, 106, 5, 4, 2223, 5244, 16, 480, 66, 3785, 33, 4, 130, 12, 16, 38, 619, 5, 25, 124, 51, 36, 135, 48, 25, 1415, 33, 6, 22, 12, 215, 28, 77, 52, 5, 14, 407, 16, 82, 2, 8, 4, 107, 117, 5952, 15, 256, 4, 2, 7, 3766, 5, 723, 36, 71, 43, 530, 476, 26, 400, 317, 46, 7, 4, 2, 1029, 13, 104, 88, 4, 381, 15, 297, 98, 32, 2071, 56, 26, 141, 6, 194, 7486, 18, 4, 226, 22, 21, 134, 476, 26, 480, 5, 144, 30, 5535, 18, 51, 36, 28, 224, 92, 25, 104, 4, 226, 65, 16, 38, 1334, 88, 12, 16, 283, 5, 16, 4472, 113, 103, 32, 15, 16, 5345, 19, 178, 32]\n",
            "1\n"
          ]
        }
      ],
      "source": [
        "#The variables train_data and test_data are lists of reviews; each review is a \n",
        "#list of word indices (encoding a sequence of words).\n",
        "# train_labels and test_labels are lists of 0s and 1s,\n",
        "# where 0 stands for negative and 1 stands for positive:\n",
        "print(\"Returns the tokinization form of the data\\n\",train_data[0]) \n",
        "print(train_label[0])"
      ]
    },
    {
      "cell_type": "markdown",
      "metadata": {
        "id": "xQR8jRuQdFPw"
      },
      "source": [
        "Because you’re restricting yourself to the top 10,000 most frequent words, no word index will exceed 10,000:"
      ]
    },
    {
      "cell_type": "code",
      "execution_count": 28,
      "metadata": {
        "colab": {
          "base_uri": "https://localhost:8080/"
        },
        "id": "ldRoiB4VdE8k",
        "outputId": "7dfcc71b-8515-43d5-893e-a31f9908041b"
      },
      "outputs": [
        {
          "data": {
            "text/plain": [
              "9999"
            ]
          },
          "execution_count": 28,
          "metadata": {},
          "output_type": "execute_result"
        }
      ],
      "source": [
        "max([max(sequence) for sequence in train_data])"
      ]
    },
    {
      "cell_type": "markdown",
      "metadata": {
        "id": "X4RdqvVJdO5s"
      },
      "source": [
        "For just checking we are converting 0 index label back to word"
      ]
    },
    {
      "cell_type": "code",
      "execution_count": 29,
      "metadata": {
        "id": "zGO9PUzNdVWU"
      },
      "outputs": [],
      "source": [
        "word_index = imdb.get_word_index()\n",
        "reversed_word_index = dict([(value , key) for (key , value) in word_index.items()])\n",
        "decoded_review = ' '.join([reversed_word_index.get(i -3 , '?') for i in train_data[0]])\n"
      ]
    },
    {
      "cell_type": "markdown",
      "metadata": {
        "id": "Oglqk85Wdxnw"
      },
      "source": [
        "To see the review of first movie"
      ]
    },
    {
      "cell_type": "code",
      "execution_count": 30,
      "metadata": {
        "colab": {
          "base_uri": "https://localhost:8080/"
        },
        "id": "JycvlvCod0wW",
        "outputId": "1d4c0dc0-f6f9-4f89-8b92-18e0a587ede5"
      },
      "outputs": [
        {
          "name": "stdout",
          "output_type": "stream",
          "text": [
            "? this film was just brilliant casting location scenery story direction everyone's really suited the part they played and you could just imagine being there robert ? is an amazing actor and now the same being director ? father came from the same scottish island as myself so i loved the fact there was a real connection with this film the witty remarks throughout the film were great it was just brilliant so much that i bought the film as soon as it was released for ? and would recommend it to everyone to watch and the fly fishing was amazing really cried at the end it was so sad and you know what they say if you cry at a film it must have been good and this definitely was also ? to the two little boy's that played the ? of norman and paul they were just brilliant children are often left out of the ? list i think because the stars that play them all grown up are such a big profile for the whole film but these children are amazing and should be praised for what they have done don't you think the whole story was so lovely because it was true and was someone's life after all that was shared with us all\n"
          ]
        }
      ],
      "source": [
        "print(decoded_review)"
      ]
    },
    {
      "attachments": {},
      "cell_type": "markdown",
      "metadata": {},
      "source": [
        "<h1>below is different than one hot encoding \n",
        "it is called \"BAG OF WORDS\""
      ]
    },
    {
      "cell_type": "markdown",
      "metadata": {
        "id": "Nw3MKU85edJw"
      },
      "source": [
        "You can’t feed lists of integers into a neural network. You have to turn your lists into tensors. There are two ways to do that:\n",
        "\n",
        "*Pad your lists so that they all have the same length, turn them into an integer tensor of shape (samples, word_indices), and then use as the first layer in your network a layer capable of handling such integer tensors (the Embedding layer, which we’ll cover in detail later in the book).\n",
        "*One-hot encode your lists to turn them into vectors of 0s and 1s. This would mean, for instance, turning the sequence [3, 5] into a 10,000-dimensional vector that would be all 0s except for indices 3 and 5, which would be 1s. Then you could use as the first layer in your network a Dense layer, capable of handling floating-point vector data.\n",
        "Let’s go with the latter solution to vectorize the data, which you’ll do manually for maximum clarity."
      ]
    },
    {
      "attachments": {},
      "cell_type": "markdown",
      "metadata": {},
      "source": [
        "we have to convert the numbers into categorical form as above we have convert words into integers not numbers"
      ]
    },
    {
      "cell_type": "code",
      "execution_count": 31,
      "metadata": {
        "id": "MhjkI42AeBaF"
      },
      "outputs": [],
      "source": [
        "import numpy as np \n",
        "# it is called Bag of Words\n",
        "# sequence =  50000\n",
        "# and every sequence is of 10K size\n",
        "def vectorization_sequences(sequence, dimension=10000):\n",
        "  results  = np.zeros((len(sequence),dimension))\n",
        "  for i , sequence in enumerate(sequence):\n",
        "    results[i,sequence] = 1.\n",
        "  return results \n",
        "\n",
        "#what is actually happing the in the list of vector \n",
        "#when we got the word in the sequence it replace it with 1 and others with 0\n",
        "\n",
        "\n",
        "x_train = vectorization_sequences(train_data)\n",
        "x_test = vectorization_sequences(test_data)"
      ]
    },
    {
      "cell_type": "markdown",
      "metadata": {
        "id": "ega2uq9bfY8A"
      },
      "source": [
        "here what saple lool like"
      ]
    },
    {
      "cell_type": "code",
      "execution_count": 32,
      "metadata": {
        "colab": {
          "base_uri": "https://localhost:8080/"
        },
        "id": "xthfFYomfbF5",
        "outputId": "4e38edd9-6e2d-4019-be20-351e1bf1cb6b"
      },
      "outputs": [
        {
          "name": "stdout",
          "output_type": "stream",
          "text": [
            "(10000,)\n",
            "lenght of  10000\n"
          ]
        }
      ],
      "source": [
        "print(x_train[0].shape)\n",
        "print(\"lenght of \",len(x_train[0]))"
      ]
    },
    {
      "attachments": {},
      "cell_type": "markdown",
      "metadata": {
        "id": "sSycS5qMfgXP"
      },
      "source": [
        "Chaninging the type of the labels\n",
        "<br> we do not have to encode the labels as in binary classification we have only 0 and 1"
      ]
    },
    {
      "cell_type": "code",
      "execution_count": 33,
      "metadata": {
        "id": "-mtV-6Ybfe1p"
      },
      "outputs": [],
      "source": [
        "y_train = np.asarray(train_label).astype('float32')\n",
        "y_test = np.asarray(test_lables).astype('float32')\n"
      ]
    },
    {
      "cell_type": "code",
      "execution_count": 34,
      "metadata": {},
      "outputs": [
        {
          "data": {
            "text/plain": [
              "1.0"
            ]
          },
          "execution_count": 34,
          "metadata": {},
          "output_type": "execute_result"
        }
      ],
      "source": [
        "y_train[3]"
      ]
    },
    {
      "cell_type": "markdown",
      "metadata": {
        "id": "0qR3WPZogDSd"
      },
      "source": [
        "Building network"
      ]
    },
    {
      "cell_type": "code",
      "execution_count": 35,
      "metadata": {
        "id": "r3WZvbY-gDa3"
      },
      "outputs": [],
      "source": [
        "from keras import models\n",
        "from keras import layers\n",
        "\n",
        "model = models.Sequential()\n",
        "model.add(layers.Dense(units = 16 , activation = 'relu', input_shape=(10000,)))\n",
        "model.add(layers.Dense(units = 16 , activation = 'relu'))\n",
        "model.add(layers.Dense(units = 1, activation = 'sigmoid'))"
      ]
    },
    {
      "cell_type": "code",
      "execution_count": 36,
      "metadata": {
        "id": "QvqGBEsPhoHt"
      },
      "outputs": [],
      "source": [
        "model.compile(optimizer = 'rmsprop', loss = 'binary_crossentropy',\n",
        "              metrics =  ['accuracy'])"
      ]
    },
    {
      "attachments": {},
      "cell_type": "markdown",
      "metadata": {
        "id": "ugmNwOhLh28r"
      },
      "source": [
        "<h1>Validation Approch</h1>In order to monitor during training the accuracy of the model on data it has never seen before, you’ll create a validation set by setting apart 10,000 samples from the original training data."
      ]
    },
    {
      "cell_type": "code",
      "execution_count": 37,
      "metadata": {
        "id": "UanvpMdjh8rR"
      },
      "outputs": [],
      "source": [
        "x_val = x_train[:10000]\n",
        "partial_x_train = x_train[10000:]\n",
        "y_val = y_train[:10000]\n",
        "partial_y_trian = y_train[10000:]"
      ]
    },
    {
      "cell_type": "markdown",
      "metadata": {
        "id": "a5YiQVT2jBKn"
      },
      "source": [
        "Training the model"
      ]
    },
    {
      "cell_type": "code",
      "execution_count": 38,
      "metadata": {
        "colab": {
          "base_uri": "https://localhost:8080/"
        },
        "id": "cSVZvKYCjBSB",
        "outputId": "08ce7fb7-e2a2-47f8-e9a7-e4f7e56e03dd"
      },
      "outputs": [
        {
          "name": "stdout",
          "output_type": "stream",
          "text": [
            "Epoch 1/20\n",
            "30/30 [==============================] - 2s 31ms/step - loss: 0.5105 - accuracy: 0.7788 - val_loss: 0.3833 - val_accuracy: 0.8710\n",
            "Epoch 2/20\n",
            "30/30 [==============================] - 1s 23ms/step - loss: 0.2992 - accuracy: 0.9046 - val_loss: 0.3050 - val_accuracy: 0.8856\n",
            "Epoch 3/20\n",
            "30/30 [==============================] - 1s 24ms/step - loss: 0.2222 - accuracy: 0.9265 - val_loss: 0.2804 - val_accuracy: 0.8905\n",
            "Epoch 4/20\n",
            "30/30 [==============================] - 1s 31ms/step - loss: 0.1729 - accuracy: 0.9449 - val_loss: 0.2785 - val_accuracy: 0.8883\n",
            "Epoch 5/20\n",
            "30/30 [==============================] - 1s 25ms/step - loss: 0.1441 - accuracy: 0.9537 - val_loss: 0.2828 - val_accuracy: 0.8873\n",
            "Epoch 6/20\n",
            "30/30 [==============================] - 1s 19ms/step - loss: 0.1194 - accuracy: 0.9635 - val_loss: 0.2940 - val_accuracy: 0.8850\n",
            "Epoch 7/20\n",
            "30/30 [==============================] - 1s 18ms/step - loss: 0.0975 - accuracy: 0.9725 - val_loss: 0.3139 - val_accuracy: 0.8827\n",
            "Epoch 8/20\n",
            "30/30 [==============================] - 1s 18ms/step - loss: 0.0806 - accuracy: 0.9783 - val_loss: 0.3414 - val_accuracy: 0.8808\n",
            "Epoch 9/20\n",
            "30/30 [==============================] - 1s 20ms/step - loss: 0.0689 - accuracy: 0.9811 - val_loss: 0.3515 - val_accuracy: 0.8810\n",
            "Epoch 10/20\n",
            "30/30 [==============================] - 1s 19ms/step - loss: 0.0563 - accuracy: 0.9857 - val_loss: 0.3753 - val_accuracy: 0.8784\n",
            "Epoch 11/20\n",
            "30/30 [==============================] - 1s 20ms/step - loss: 0.0456 - accuracy: 0.9884 - val_loss: 0.4038 - val_accuracy: 0.8775\n",
            "Epoch 12/20\n",
            "30/30 [==============================] - 1s 27ms/step - loss: 0.0350 - accuracy: 0.9934 - val_loss: 0.4368 - val_accuracy: 0.8764\n",
            "Epoch 13/20\n",
            "30/30 [==============================] - 1s 20ms/step - loss: 0.0316 - accuracy: 0.9935 - val_loss: 0.4631 - val_accuracy: 0.8730\n",
            "Epoch 14/20\n",
            "30/30 [==============================] - 1s 25ms/step - loss: 0.0236 - accuracy: 0.9953 - val_loss: 0.4976 - val_accuracy: 0.8744\n",
            "Epoch 15/20\n",
            "30/30 [==============================] - 1s 18ms/step - loss: 0.0200 - accuracy: 0.9964 - val_loss: 0.5297 - val_accuracy: 0.8672\n",
            "Epoch 16/20\n",
            "30/30 [==============================] - 1s 18ms/step - loss: 0.0152 - accuracy: 0.9979 - val_loss: 0.5630 - val_accuracy: 0.8693\n",
            "Epoch 17/20\n",
            "30/30 [==============================] - 1s 19ms/step - loss: 0.0099 - accuracy: 0.9992 - val_loss: 0.6104 - val_accuracy: 0.8597\n",
            "Epoch 18/20\n",
            "30/30 [==============================] - 1s 18ms/step - loss: 0.0117 - accuracy: 0.9980 - val_loss: 0.6283 - val_accuracy: 0.8686\n",
            "Epoch 19/20\n",
            "30/30 [==============================] - 1s 21ms/step - loss: 0.0055 - accuracy: 0.9997 - val_loss: 0.7091 - val_accuracy: 0.8638\n",
            "Epoch 20/20\n",
            "30/30 [==============================] - 1s 20ms/step - loss: 0.0078 - accuracy: 0.9984 - val_loss: 0.7042 - val_accuracy: 0.8662\n"
          ]
        }
      ],
      "source": [
        "model.compile(optimizer = 'rmsprop', loss = 'binary_crossentropy',\n",
        "              metrics =  ['accuracy'])\n",
        "history = model.fit(partial_x_train,\n",
        "                    partial_y_trian,\n",
        "                    epochs= 20 ,\n",
        "                    batch_size=512,\n",
        "                    validation_data=(x_val,y_val))"
      ]
    },
    {
      "cell_type": "markdown",
      "metadata": {
        "id": "vKO7afYjkFaw"
      },
      "source": [
        "Note that the call to model.fit() returns a History object. This object has a member history, which is a dictionary containing data about everything that happened during training. Let’s look at it:\n",
        "\n",
        "The dictionary contains four entries: one per metric that was being monitored during training and during validation. In the following two listing, let’s use Matplotlib to plot the training and validation loss side by side (see figure 3.7), as well as the training and validation accuracy (see figure 3.8). Note that your own results may vary slightly due to a different random initialization of your network.\n"
      ]
    },
    {
      "cell_type": "code",
      "execution_count": 39,
      "metadata": {
        "colab": {
          "base_uri": "https://localhost:8080/"
        },
        "id": "i2ONTYk4kMMq",
        "outputId": "dc59a6eb-c56d-4dac-a821-2a012a5b8380"
      },
      "outputs": [
        {
          "name": "stdout",
          "output_type": "stream",
          "text": [
            "keys\n",
            " dict_keys(['loss', 'accuracy', 'val_loss', 'val_accuracy'])\n",
            "values\n",
            " dict_values([[0.5104618668556213, 0.2992006838321686, 0.22218044102191925, 0.17292429506778717, 0.14409232139587402, 0.11936990916728973, 0.0974835529923439, 0.08060764521360397, 0.06887133419513702, 0.05630728229880333, 0.045606035739183426, 0.03500162437558174, 0.03156643733382225, 0.023613858968019485, 0.019977884367108345, 0.015224862843751907, 0.009893127717077732, 0.011679906398057938, 0.005450807046145201, 0.007759039755910635], [0.7788000106811523, 0.9046000242233276, 0.9264666438102722, 0.9448666572570801, 0.9537333250045776, 0.963533341884613, 0.9724666476249695, 0.9783333539962769, 0.9811333417892456, 0.9857333302497864, 0.9883999824523926, 0.993399977684021, 0.9935333132743835, 0.9953333139419556, 0.996399998664856, 0.9979333281517029, 0.9991999864578247, 0.9980000257492065, 0.9997333288192749, 0.9983999729156494], [0.3832557201385498, 0.3049926459789276, 0.2803876996040344, 0.2784724831581116, 0.28278204798698425, 0.2939755618572235, 0.3138555586338043, 0.3413771092891693, 0.3515464961528778, 0.3753359913825989, 0.40378355979919434, 0.43678510189056396, 0.4631027281284332, 0.4975707530975342, 0.5297377705574036, 0.5629938244819641, 0.6103692650794983, 0.6282726526260376, 0.7091350555419922, 0.7041589021682739], [0.8709999918937683, 0.8855999708175659, 0.890500009059906, 0.8883000016212463, 0.8873000144958496, 0.8849999904632568, 0.8827000260353088, 0.8808000087738037, 0.8809999823570251, 0.8784000277519226, 0.8774999976158142, 0.8763999938964844, 0.8730000257492065, 0.8744000196456909, 0.8672000169754028, 0.8693000078201294, 0.8597000241279602, 0.8686000108718872, 0.8637999892234802, 0.8661999702453613]])\n"
          ]
        }
      ],
      "source": [
        "history_dict = history.history\n",
        "print(\"keys\\n\",history_dict.keys())\n",
        "\n",
        "print(\"values\\n\",history_dict.values())\n"
      ]
    },
    {
      "cell_type": "code",
      "execution_count": 40,
      "metadata": {
        "colab": {
          "base_uri": "https://localhost:8080/",
          "height": 295
        },
        "id": "pPnpOpI7k_Px",
        "outputId": "6a5dc562-c592-4353-c3e4-cf58ee74bc0c"
      },
      "outputs": [
        {
          "data": {
            "image/png": "[encoded data removed]",
            "text/plain": [
              "<Figure size 432x288 with 1 Axes>"
            ]
          },
          "metadata": {
            "needs_background": "light"
          },
          "output_type": "display_data"
        }
      ],
      "source": [
        "import matplotlib.pyplot as plt\n",
        "\n",
        "history_dict = history.history\n",
        "loss_values = history_dict['loss']\n",
        "val_loss_values = history_dict['val_loss']\n",
        "\n",
        "epochs = range(1, len(history_dict['accuracy']) + 1)\n",
        "\n",
        "plt.plot(epochs, loss_values, 'bo', label='Training loss')\n",
        "plt.plot(epochs, val_loss_values, 'b', label='Validation loss')\n",
        "plt.title('Training and validation loss')\n",
        "plt.xlabel('Epochs')\n",
        "plt.ylabel('Loss')\n",
        "plt.legend()\n",
        "\n",
        "plt.show()\n"
      ]
    },
    {
      "cell_type": "code",
      "execution_count": 41,
      "metadata": {
        "colab": {
          "base_uri": "https://localhost:8080/",
          "height": 295
        },
        "id": "KqQ6VMrnnB-5",
        "outputId": "907731ac-20a0-466a-a609-14086800bf7e"
      },
      "outputs": [
        {
          "data": {
            "image/png": "[encoded data removed]",
            "text/plain": [
              "<Figure size 432x288 with 1 Axes>"
            ]
          },
          "metadata": {
            "needs_background": "light"
          },
          "output_type": "display_data"
        }
      ],
      "source": [
        "import matplotlib.pyplot as plt\n",
        "\n",
        "history_dict = history.history\n",
        "acc_values = history_dict['accuracy']\n",
        "val_acc_values = history_dict['val_accuracy']\n",
        "\n",
        "epochs = range(1, len(history_dict['accuracy']) + 1)\n",
        "\n",
        "\n",
        "\n",
        "\n",
        "plt.plot(epochs, acc_values, 'bo', label='Training acc')\n",
        "plt.plot(epochs, val_acc_values, 'b', label='Validation acc')\n",
        "plt.title('Training and validation accuracy')\n",
        "plt.xlabel('Epochs')\n",
        "plt.ylabel('Loss')\n",
        "plt.legend()\n",
        "\n",
        "plt.show()"
      ]
    },
    {
      "cell_type": "markdown",
      "metadata": {
        "id": "PeEaLT7inpTU"
      },
      "source": [
        "As you can see, the training loss decreases with every epoch, and the training accuracy increases with every epoch. That’s what you would expect when running gradient-descent optimization—the quantity you’re trying to minimize should be less with every iteration. But that isn’t the case for the validation loss and accuracy: they seem to peak at the fourth epoch. This is an example of what we warned against earlier: a model that performs better on the training data isn’t necessarily a model that will do better on data it has never seen before. In precise terms, what you’re seeing is overfitting: after the second epoch, you’re overoptimizing on the training data, and you end up learning representations that are specific to the training data and don’t generalize to data outside of the training set.\n",
        "\n",
        "In this case, to prevent overfitting, you could stop training after three epochs. In general, you can use a range of techniques to mitigate overfitting, which we’ll cover in chapter 4."
      ]
    },
    {
      "cell_type": "markdown",
      "metadata": {
        "id": "GnM-tWirnqme"
      },
      "source": [
        "Let’s train a new network from scratch for four epochs and then evaluate it on the test data."
      ]
    },
    {
      "cell_type": "code",
      "execution_count": 42,
      "metadata": {
        "colab": {
          "base_uri": "https://localhost:8080/"
        },
        "id": "jKeP5uFHnsMu",
        "outputId": "20406ee9-3a39-499e-be89-3e85fa8ce133"
      },
      "outputs": [
        {
          "name": "stdout",
          "output_type": "stream",
          "text": [
            "Epoch 1/5\n",
            "49/49 [==============================] - 3s 26ms/step - loss: 0.4498 - accuracy: 0.8296 - val_loss: 0.2800 - val_accuracy: 0.9110\n",
            "Epoch 2/5\n",
            "49/49 [==============================] - 1s 17ms/step - loss: 0.2554 - accuracy: 0.9090 - val_loss: 0.2018 - val_accuracy: 0.9315\n",
            "Epoch 3/5\n",
            "49/49 [==============================] - 1s 18ms/step - loss: 0.1992 - accuracy: 0.9291 - val_loss: 0.1526 - val_accuracy: 0.9530\n",
            "Epoch 4/5\n",
            "49/49 [==============================] - 1s 18ms/step - loss: 0.1655 - accuracy: 0.9410 - val_loss: 0.1273 - val_accuracy: 0.9611\n",
            "Epoch 5/5\n",
            "49/49 [==============================] - 1s 17ms/step - loss: 0.1414 - accuracy: 0.9503 - val_loss: 0.1145 - val_accuracy: 0.9636\n",
            "782/782 [==============================] - 2s 2ms/step - loss: 0.3211 - accuracy: 0.8780\n"
          ]
        }
      ],
      "source": [
        "model = models.Sequential()\n",
        "model.add(layers.Dense(16, activation='relu', input_shape=(10000,)))\n",
        "model.add(layers.Dense(16, activation='relu'))\n",
        "model.add(layers.Dense(1, activation='sigmoid'))\n",
        "\n",
        "model.compile(optimizer='rmsprop',\n",
        "              loss='binary_crossentropy',\n",
        "              metrics=['accuracy'])\n",
        "\n",
        "h = model.fit(x_train, y_train, epochs=5, batch_size=512,validation_data=(x_val,y_val))\n",
        "results = model.evaluate(x_test, y_test)"
      ]
    },
    {
      "cell_type": "code",
      "execution_count": 43,
      "metadata": {},
      "outputs": [
        {
          "name": "stdout",
          "output_type": "stream",
          "text": [
            "keys\n",
            " dict_keys(['loss', 'accuracy', 'val_loss', 'val_accuracy'])\n",
            "values\n",
            " dict_values([[0.4497692286968231, 0.2554047703742981, 0.19924186170101166, 0.16549310088157654, 0.14136973023414612], [0.8295999765396118, 0.9090399742126465, 0.9290800094604492, 0.9409599900245667, 0.9503200054168701], [0.2800438404083252, 0.2018154412508011, 0.15264977514743805, 0.12725333869457245, 0.1144978478550911], [0.9110000133514404, 0.9315000176429749, 0.953000009059906, 0.9610999822616577, 0.9635999798774719]])\n"
          ]
        }
      ],
      "source": [
        "history_dict = h.history\n",
        "print(\"keys\\n\",history_dict.keys())\n",
        "\n",
        "print(\"values\\n\",history_dict.values())\n"
      ]
    },
    {
      "cell_type": "code",
      "execution_count": 44,
      "metadata": {},
      "outputs": [
        {
          "data": {
            "text/html": [
              "<div>\n",
              "<style scoped>\n",
              "    .dataframe tbody tr th:only-of-type {\n",
              "        vertical-align: middle;\n",
              "    }\n",
              "\n",
              "    .dataframe tbody tr th {\n",
              "        vertical-align: top;\n",
              "    }\n",
              "\n",
              "    .dataframe thead th {\n",
              "        text-align: right;\n",
              "    }\n",
              "</style>\n",
              "<table border=\"1\" class=\"dataframe\">\n",
              "  <thead>\n",
              "    <tr style=\"text-align: right;\">\n",
              "      <th></th>\n",
              "      <th>loss</th>\n",
              "      <th>accuracy</th>\n",
              "      <th>val_loss</th>\n",
              "      <th>val_accuracy</th>\n",
              "    </tr>\n",
              "  </thead>\n",
              "  <tbody>\n",
              "    <tr>\n",
              "      <th>0</th>\n",
              "      <td>0.449769</td>\n",
              "      <td>0.82960</td>\n",
              "      <td>0.280044</td>\n",
              "      <td>0.9110</td>\n",
              "    </tr>\n",
              "    <tr>\n",
              "      <th>1</th>\n",
              "      <td>0.255405</td>\n",
              "      <td>0.90904</td>\n",
              "      <td>0.201815</td>\n",
              "      <td>0.9315</td>\n",
              "    </tr>\n",
              "    <tr>\n",
              "      <th>2</th>\n",
              "      <td>0.199242</td>\n",
              "      <td>0.92908</td>\n",
              "      <td>0.152650</td>\n",
              "      <td>0.9530</td>\n",
              "    </tr>\n",
              "    <tr>\n",
              "      <th>3</th>\n",
              "      <td>0.165493</td>\n",
              "      <td>0.94096</td>\n",
              "      <td>0.127253</td>\n",
              "      <td>0.9611</td>\n",
              "    </tr>\n",
              "    <tr>\n",
              "      <th>4</th>\n",
              "      <td>0.141370</td>\n",
              "      <td>0.95032</td>\n",
              "      <td>0.114498</td>\n",
              "      <td>0.9636</td>\n",
              "    </tr>\n",
              "  </tbody>\n",
              "</table>\n",
              "</div>"
            ],
            "text/plain": [
              "       loss  accuracy  val_loss  val_accuracy\n",
              "0  0.449769   0.82960  0.280044        0.9110\n",
              "1  0.255405   0.90904  0.201815        0.9315\n",
              "2  0.199242   0.92908  0.152650        0.9530\n",
              "3  0.165493   0.94096  0.127253        0.9611\n",
              "4  0.141370   0.95032  0.114498        0.9636"
            ]
          },
          "execution_count": 44,
          "metadata": {},
          "output_type": "execute_result"
        }
      ],
      "source": [
        "import pandas as pd\n",
        "p = pd.DataFrame(history_dict)\n",
        "p"
      ]
    },
    {
      "cell_type": "code",
      "execution_count": 45,
      "metadata": {},
      "outputs": [
        {
          "data": {
            "image/png": "[encoded data removed]",
            "text/plain": [
              "<Figure size 432x288 with 1 Axes>"
            ]
          },
          "metadata": {
            "needs_background": "light"
          },
          "output_type": "display_data"
        }
      ],
      "source": [
        "import matplotlib.pyplot as plt\n",
        "\n",
        "history_dict = h.history\n",
        "loss_values = history_dict['loss']\n",
        "val_loss_values = history_dict['val_loss']\n",
        "\n",
        "epochs = range(1, len(history_dict['accuracy']) + 1)\n",
        "\n",
        "plt.plot(epochs, loss_values, 'bo', label='Training loss')\n",
        "plt.plot(epochs, val_loss_values, 'b', label='Validation loss')\n",
        "plt.title('Training and validation loss')\n",
        "plt.xlabel('Epochs')\n",
        "plt.ylabel('Loss')\n",
        "plt.legend()\n",
        "\n",
        "plt.show()\n"
      ]
    },
    {
      "cell_type": "markdown",
      "metadata": {
        "id": "__w8QobWn9Md"
      },
      "source": [
        "After having trained a network, you’ll want to use it in a practical setting. You can generate the likelihood of reviews being positive by using the predict method:"
      ]
    },
    {
      "cell_type": "code",
      "execution_count": 46,
      "metadata": {
        "colab": {
          "base_uri": "https://localhost:8080/"
        },
        "id": "THZMBjn0n91D",
        "outputId": "11139a64-2322-42d8-b303-5c183abc428d"
      },
      "outputs": [
        {
          "name": "stdout",
          "output_type": "stream",
          "text": [
            "782/782 [==============================] - 1s 2ms/step\n"
          ]
        },
        {
          "data": {
            "text/plain": [
              "array([[0.],\n",
              "       [1.],\n",
              "       [1.],\n",
              "       ...,\n",
              "       [0.],\n",
              "       [0.],\n",
              "       [1.]], dtype=float32)"
            ]
          },
          "execution_count": 46,
          "metadata": {},
          "output_type": "execute_result"
        }
      ],
      "source": [
        "#model.predict(x_test)\n",
        "y =np.round(model.predict(x_test))\n",
        "y"
      ]
    },
    {
      "cell_type": "code",
      "execution_count": 55,
      "metadata": {},
      "outputs": [
        {
          "name": "stdout",
          "output_type": "stream",
          "text": [
            "INFO:tensorflow:Assets written to: model2.pkl\\assets\n"
          ]
        }
      ],
      "source": [
        "#storing the model\n",
        "model.save(\"model2.pkl\")"
      ]
    },
    {
      "attachments": {},
      "cell_type": "markdown",
      "metadata": {},
      "source": [
        "<h1>giving the custom data"
      ]
    },
    {
      "cell_type": "code",
      "execution_count": 48,
      "metadata": {},
      "outputs": [],
      "source": [
        "from keras.preprocessing.text import Tokenizer\n",
        "from tensorflow.keras.preprocessing.sequence import pad_sequences"
      ]
    },
    {
      "cell_type": "code",
      "execution_count": 57,
      "metadata": {},
      "outputs": [],
      "source": [
        "from keras.models import load_model\n",
        "m = models.load_model(\"model2.pkl\")"
      ]
    },
    {
      "cell_type": "code",
      "execution_count": 74,
      "metadata": {},
      "outputs": [],
      "source": [
        "def custome_data(text):\n",
        "    max= 10000\n",
        "    tok = Tokenizer(num_words=max)\n",
        "    tok.fit_on_texts([text])\n",
        "    s = tok.texts_to_sequences([text])\n",
        "    x = vectorization_sequences(s,dimension=max)\n",
        "    p = m.predict(x)\n",
        "    u = np.round(p)\n",
        "    if(u == 0):\n",
        "        print(u)\n",
        "        print(\"The Review is Negative\")\n",
        "    else:\n",
        "        print(\",\",u)\n",
        "        print(\"The Review is Positive\")\n",
        "        \n",
        "\n"
      ]
    },
    {
      "cell_type": "code",
      "execution_count": 78,
      "metadata": {},
      "outputs": [
        {
          "name": "stdout",
          "output_type": "stream",
          "text": [
            "1/1 [==============================] - 0s 42ms/step\n",
            "[[0.]]\n",
            "The Review is Negative\n"
          ]
        }
      ],
      "source": [
        "custome_data(\"bad movie i have ever seen\")"
      ]
    }
  ],
  "metadata": {
    "colab": {
      "collapsed_sections": [],
      "name": "Movie Review IBDM.ipynb",
      "provenance": []
    },
    "kernelspec": {
      "display_name": "Python 3.9.12 ('base')",
      "language": "python",
      "name": "python3"
    },
    "language_info": {
      "codemirror_mode": {
        "name": "ipython",
        "version": 3
      },
      "file_extension": ".py",
      "mimetype": "text/x-python",
      "name": "python",
      "nbconvert_exporter": "python",
      "pygments_lexer": "ipython3",
      "version": "3.9.12"
    },
    "vscode": {
      "interpreter": {
        "hash": "f3a52463084db90f96d29dcfcfd9bf276dba3c521d76c4c38c835392b64a093b"
      }
    }
  },
  "nbformat": 4,
  "nbformat_minor": 0
}
