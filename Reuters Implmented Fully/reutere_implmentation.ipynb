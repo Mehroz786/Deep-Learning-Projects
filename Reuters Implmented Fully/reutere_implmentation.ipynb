{
 "cells": [
  {
   "attachments": {},
   "cell_type": "markdown",
   "metadata": {},
   "source": [
    "<h1>Reuters Full code along with the Flask"
   ]
  },
  {
   "cell_type": "code",
   "execution_count": 27,
   "metadata": {},
   "outputs": [],
   "source": [
    "# importing libraries\n",
    "from keras.datasets import reuters\n",
    "import numpy as np \n",
    "from keras import models,utils\n",
    "from keras import layers\n",
    "import matplotlib.pyplot as plt"
   ]
  },
  {
   "cell_type": "code",
   "execution_count": 46,
   "metadata": {},
   "outputs": [],
   "source": [
    "from keras.datasets import reuters\n",
    "(train_data, train_label),(test_data, test_label) = reuters.load_data(num_words=10000)"
   ]
  },
  {
   "cell_type": "code",
   "execution_count": 47,
   "metadata": {},
   "outputs": [
    {
     "data": {
      "text/plain": [
       "array([list([1, 2, 2, 8, 43, 10, 447, 5, 25, 207, 270, 5, 3095, 111, 16, 369, 186, 90, 67, 7, 89, 5, 19, 102, 6, 19, 124, 15, 90, 67, 84, 22, 482, 26, 7, 48, 4, 49, 8, 864, 39, 209, 154, 6, 151, 6, 83, 11, 15, 22, 155, 11, 15, 7, 48, 9, 4579, 1005, 504, 6, 258, 6, 272, 11, 15, 22, 134, 44, 11, 15, 16, 8, 197, 1245, 90, 67, 52, 29, 209, 30, 32, 132, 6, 109, 15, 17, 12]),\n",
       "       list([1, 3267, 699, 3434, 2295, 56, 2, 7511, 9, 56, 3906, 1073, 81, 5, 1198, 57, 366, 737, 132, 20, 4093, 7, 2, 49, 2295, 2, 1037, 3267, 699, 3434, 8, 7, 10, 241, 16, 855, 129, 231, 783, 5, 4, 587, 2295, 2, 2, 775, 7, 48, 34, 191, 44, 35, 1795, 505, 17, 12]),\n",
       "       list([1, 53, 12, 284, 15, 14, 272, 26, 53, 959, 32, 818, 15, 14, 272, 26, 39, 684, 70, 11, 14, 12, 3886, 18, 180, 183, 187, 70, 11, 14, 102, 32, 11, 29, 53, 44, 704, 15, 14, 19, 758, 15, 53, 959, 47, 1013, 15, 14, 19, 132, 15, 39, 965, 32, 11, 14, 147, 72, 11, 180, 183, 187, 44, 11, 14, 102, 19, 11, 123, 186, 90, 67, 960, 4, 78, 13, 68, 467, 511, 110, 59, 89, 90, 67, 1390, 55, 2678, 92, 617, 80, 1274, 46, 905, 220, 13, 4, 346, 48, 235, 629, 5, 211, 5, 1118, 7, 2, 81, 5, 187, 11, 15, 9, 1709, 201, 5, 47, 3615, 18, 478, 4514, 5, 1118, 7, 232, 2, 71, 5, 160, 63, 11, 9, 2, 81, 5, 102, 59, 11, 17, 12]),\n",
       "       ...,\n",
       "       list([1, 141, 3890, 387, 81, 8, 16, 1629, 10, 340, 1241, 850, 31, 56, 3890, 691, 9, 1241, 71, 9, 5985, 2, 2, 699, 2, 2, 2, 699, 244, 5945, 4, 49, 8, 4, 656, 850, 33, 2993, 9, 2139, 340, 3371, 1493, 9, 2, 22, 2, 1094, 687, 83, 35, 15, 257, 6, 57, 9190, 7, 4, 5956, 654, 5, 2, 6191, 1371, 4, 49, 8, 16, 369, 646, 6, 1076, 7, 124, 407, 17, 12]),\n",
       "       list([1, 53, 46, 957, 26, 14, 74, 132, 26, 39, 46, 258, 3614, 18, 14, 74, 134, 5131, 18, 88, 2321, 72, 11, 14, 1842, 32, 11, 123, 383, 89, 39, 46, 235, 10, 864, 728, 5, 258, 44, 11, 15, 22, 753, 9, 42, 92, 131, 728, 5, 69, 312, 11, 15, 22, 222, 2, 3237, 383, 48, 39, 74, 235, 10, 864, 276, 5, 61, 32, 11, 15, 21, 4, 211, 5, 126, 1072, 42, 92, 131, 46, 19, 352, 11, 15, 22, 710, 220, 9, 42, 92, 131, 276, 5, 59, 61, 11, 15, 22, 10, 455, 7, 1172, 137, 336, 1325, 6, 1532, 142, 971, 6463, 43, 359, 5, 4, 326, 753, 364, 17, 12]),\n",
       "       list([1, 227, 2406, 91, 2, 125, 2855, 21, 4, 3976, 76, 7, 4, 757, 481, 3976, 790, 5259, 5654, 9, 111, 149, 8, 7, 10, 76, 223, 51, 4, 417, 8, 1047, 91, 6917, 1688, 340, 7, 194, 9411, 6, 1894, 21, 127, 2151, 2394, 1456, 6, 3034, 4, 329, 433, 7, 65, 87, 1127, 10, 8219, 1475, 290, 9, 21, 567, 16, 1926, 24, 4, 76, 209, 30, 4033, 6655, 5654, 8, 4, 60, 8, 4, 966, 308, 40, 2575, 129, 2, 295, 277, 1071, 9, 24, 286, 2114, 234, 222, 9, 4, 906, 3994, 8519, 114, 5758, 1752, 7, 4, 113, 17, 12])],\n",
       "      dtype=object)"
      ]
     },
     "execution_count": 47,
     "metadata": {},
     "output_type": "execute_result"
    }
   ],
   "source": [
    "train_data"
   ]
  },
  {
   "attachments": {},
   "cell_type": "markdown",
   "metadata": {},
   "source": [
    "Labels are the category from which the articel belongs"
   ]
  },
  {
   "cell_type": "code",
   "execution_count": 48,
   "metadata": {},
   "outputs": [
    {
     "data": {
      "text/plain": [
       "array([ 3,  4,  3, ..., 25,  3, 25], dtype=int64)"
      ]
     },
     "execution_count": 48,
     "metadata": {},
     "output_type": "execute_result"
    }
   ],
   "source": [
    "train_label"
   ]
  },
  {
   "attachments": {},
   "cell_type": "markdown",
   "metadata": {},
   "source": [
    "<h1> Preprocessing the data"
   ]
  },
  {
   "attachments": {},
   "cell_type": "markdown",
   "metadata": {},
   "source": [
    "reversing the firsts review"
   ]
  },
  {
   "cell_type": "code",
   "execution_count": 49,
   "metadata": {},
   "outputs": [
    {
     "data": {
      "text/plain": [
       "'? ? ? said as a result of its december acquisition of space co it expects earnings per share in 1987 of 1 15 to 1 30 dlrs per share up from 70 cts in 1986 the company said pretax net should rise to nine to 10 mln dlrs from six mln dlrs in 1986 and rental operation revenues to 19 to 22 mln dlrs from 12 5 mln dlrs it said cash flow per share this year should be 2 50 to three dlrs reuter 3'"
      ]
     },
     "execution_count": 49,
     "metadata": {},
     "output_type": "execute_result"
    }
   ],
   "source": [
    "word_index = reuters.get_word_index()\n",
    "reversed_word_index = dict([(value , key) for (key , value) in word_index.items()])\n",
    "decoded_review = ' '.join([reversed_word_index.get(i -3 , '?') for i in train_data[0]])\n",
    "decoded_review"
   ]
  },
  {
   "attachments": {},
   "cell_type": "markdown",
   "metadata": {},
   "source": [
    "<h1>Vetorizing the data</h1>\n",
    "<br>here we have defined the data which is converting the data into vector form"
   ]
  },
  {
   "cell_type": "code",
   "execution_count": 50,
   "metadata": {},
   "outputs": [],
   "source": [
    "def vectorizing(sequence , dimension = 10000):\n",
    "    result = np.zeros((len(sequence),dimension))\n",
    "    for i , s in enumerate(sequence):\n",
    "        result[i , s] = 1\n",
    "    return result\n"
   ]
  },
  {
   "cell_type": "code",
   "execution_count": 51,
   "metadata": {},
   "outputs": [],
   "source": [
    "x_train = vectorizing(train_data)\n",
    "x_test = vectorizing(test_data)"
   ]
  },
  {
   "cell_type": "code",
   "execution_count": 52,
   "metadata": {},
   "outputs": [
    {
     "name": "stdout",
     "output_type": "stream",
     "text": [
      "Shape of x_train data (8982, 10000)\n",
      "Shape of x_test data (2246, 10000)\n"
     ]
    }
   ],
   "source": [
    "print(\"Shape of x_train data\" ,x_train.shape)\n",
    "print(\"Shape of x_test data\" ,x_test.shape)"
   ]
  },
  {
   "attachments": {},
   "cell_type": "markdown",
   "metadata": {},
   "source": [
    "for labels we are going to use one-hot encoding , for this we are going to use uitls function of keras"
   ]
  },
  {
   "cell_type": "code",
   "execution_count": 53,
   "metadata": {},
   "outputs": [],
   "source": [
    "one_hot_train_label = utils.to_categorical(train_label)\n",
    "one_hot_test_label = utils.to_categorical(test_label)"
   ]
  },
  {
   "cell_type": "code",
   "execution_count": 54,
   "metadata": {},
   "outputs": [
    {
     "name": "stdout",
     "output_type": "stream",
     "text": [
      "[[0. 0. 0. ... 0. 0. 0.]\n",
      " [0. 0. 0. ... 0. 0. 0.]\n",
      " [0. 1. 0. ... 0. 0. 0.]\n",
      " ...\n",
      " [0. 0. 0. ... 0. 0. 0.]\n",
      " [0. 0. 0. ... 0. 0. 0.]\n",
      " [0. 0. 0. ... 0. 0. 0.]]\n",
      "shape of labels  (2246, 46)\n"
     ]
    }
   ],
   "source": [
    "#now labels are also in the form of vectors\n",
    "print(one_hot_test_label)\n",
    "print(\"shape of labels \",one_hot_test_label.shape)"
   ]
  },
  {
   "attachments": {},
   "cell_type": "markdown",
   "metadata": {},
   "source": [
    "<h1>Making the neural network"
   ]
  },
  {
   "attachments": {},
   "cell_type": "markdown",
   "metadata": {},
   "source": [
    "here we have to keep in mind that number of classification class are 46 , so in the last layer units will be 46 and activation function will be \"softmax\n",
    "\""
   ]
  },
  {
   "cell_type": "code",
   "execution_count": 55,
   "metadata": {},
   "outputs": [],
   "source": [
    "model = models.Sequential()\n",
    "model.add(layers.Dense(64, activation = \"relu\",input_shape= (10000,)))\n",
    "model.add(layers.Dense(64 , activation = \"relu\"))\n",
    "model.add(layers.Dense(46 , activation = \"softmax\"))"
   ]
  },
  {
   "attachments": {},
   "cell_type": "markdown",
   "metadata": {},
   "source": [
    "as we are using softmax which is used in probability distribution so the best loss function will be categorical_crossentropy"
   ]
  },
  {
   "attachments": {},
   "cell_type": "markdown",
   "metadata": {},
   "source": [
    "separating some of the data fro validation purpose"
   ]
  },
  {
   "cell_type": "code",
   "execution_count": 56,
   "metadata": {},
   "outputs": [],
   "source": [
    "x_val = x_train[:1000]\n",
    "partial_x_train = x_train[1000:]\n",
    "y_val = one_hot_train_label[:1000]\n",
    "partial_y_trian = one_hot_train_label[1000:]"
   ]
  },
  {
   "attachments": {},
   "cell_type": "markdown",
   "metadata": {},
   "source": [
    "<h1>Feeding the network"
   ]
  },
  {
   "cell_type": "code",
   "execution_count": 57,
   "metadata": {},
   "outputs": [
    {
     "name": "stdout",
     "output_type": "stream",
     "text": [
      "Epoch 1/20\n",
      "16/16 [==============================] - 1s 40ms/step - loss: 2.4846 - accuracy: 0.5510 - val_loss: 1.6518 - val_accuracy: 0.6650\n",
      "Epoch 2/20\n",
      "16/16 [==============================] - 0s 31ms/step - loss: 1.3498 - accuracy: 0.7169 - val_loss: 1.2757 - val_accuracy: 0.7220\n",
      "Epoch 3/20\n",
      "16/16 [==============================] - 0s 27ms/step - loss: 1.0115 - accuracy: 0.7813 - val_loss: 1.1526 - val_accuracy: 0.7410\n",
      "Epoch 4/20\n",
      "16/16 [==============================] - 0s 29ms/step - loss: 0.7949 - accuracy: 0.8312 - val_loss: 1.0549 - val_accuracy: 0.7780\n",
      "Epoch 5/20\n",
      "16/16 [==============================] - 0s 25ms/step - loss: 0.6328 - accuracy: 0.8673 - val_loss: 0.9943 - val_accuracy: 0.7990\n",
      "Epoch 6/20\n",
      "16/16 [==============================] - 0s 30ms/step - loss: 0.4995 - accuracy: 0.8970 - val_loss: 0.9647 - val_accuracy: 0.7970\n",
      "Epoch 7/20\n",
      "16/16 [==============================] - 0s 26ms/step - loss: 0.4048 - accuracy: 0.9138 - val_loss: 0.9377 - val_accuracy: 0.8170\n",
      "Epoch 8/20\n",
      "16/16 [==============================] - 0s 26ms/step - loss: 0.3313 - accuracy: 0.9283 - val_loss: 0.9368 - val_accuracy: 0.8180\n",
      "Epoch 9/20\n",
      "16/16 [==============================] - 0s 26ms/step - loss: 0.2719 - accuracy: 0.9391 - val_loss: 0.9276 - val_accuracy: 0.8170\n",
      "Epoch 10/20\n",
      "16/16 [==============================] - 0s 29ms/step - loss: 0.2313 - accuracy: 0.9453 - val_loss: 0.9914 - val_accuracy: 0.8050\n",
      "Epoch 11/20\n",
      "16/16 [==============================] - 0s 26ms/step - loss: 0.2028 - accuracy: 0.9486 - val_loss: 0.9555 - val_accuracy: 0.8200\n",
      "Epoch 12/20\n",
      "16/16 [==============================] - 0s 26ms/step - loss: 0.1779 - accuracy: 0.9520 - val_loss: 0.9927 - val_accuracy: 0.8200\n",
      "Epoch 13/20\n",
      "16/16 [==============================] - 0s 29ms/step - loss: 0.1624 - accuracy: 0.9539 - val_loss: 1.0450 - val_accuracy: 0.8030\n",
      "Epoch 14/20\n",
      "16/16 [==============================] - 0s 28ms/step - loss: 0.1441 - accuracy: 0.9554 - val_loss: 1.1636 - val_accuracy: 0.7790\n",
      "Epoch 15/20\n",
      "16/16 [==============================] - 0s 26ms/step - loss: 0.1417 - accuracy: 0.9554 - val_loss: 1.0833 - val_accuracy: 0.7990\n",
      "Epoch 16/20\n",
      "16/16 [==============================] - 0s 26ms/step - loss: 0.1284 - accuracy: 0.9574 - val_loss: 1.0577 - val_accuracy: 0.8160\n",
      "Epoch 17/20\n",
      "16/16 [==============================] - 0s 29ms/step - loss: 0.1249 - accuracy: 0.9578 - val_loss: 1.1091 - val_accuracy: 0.7970\n",
      "Epoch 18/20\n",
      "16/16 [==============================] - 0s 26ms/step - loss: 0.1202 - accuracy: 0.9560 - val_loss: 1.1005 - val_accuracy: 0.8070\n",
      "Epoch 19/20\n",
      "16/16 [==============================] - 0s 26ms/step - loss: 0.1155 - accuracy: 0.9577 - val_loss: 1.1197 - val_accuracy: 0.8010\n",
      "Epoch 20/20\n",
      "16/16 [==============================] - 0s 24ms/step - loss: 0.1087 - accuracy: 0.9587 - val_loss: 1.1644 - val_accuracy: 0.8000\n"
     ]
    }
   ],
   "source": [
    "model.compile(optimizer=\"rmsprop\",loss=\"categorical_crossentropy\",metrics='accuracy')\n",
    "history = model.fit(partial_x_train,\n",
    "                    partial_y_trian,\n",
    "                    epochs=20,\n",
    "                    batch_size=512,\n",
    "                    validation_data= (x_val,y_val))\n"
   ]
  },
  {
   "attachments": {},
   "cell_type": "markdown",
   "metadata": {},
   "source": [
    "<h1>checking about overfitting and underfitting"
   ]
  },
  {
   "cell_type": "code",
   "execution_count": 58,
   "metadata": {},
   "outputs": [
    {
     "data": {
      "image/png": "[encoded data removed]",
      "text/plain": [
       "<Figure size 432x288 with 1 Axes>"
      ]
     },
     "metadata": {
      "needs_background": "light"
     },
     "output_type": "display_data"
    }
   ],
   "source": [
    "history_dic = history.history\n",
    "accuracy_values = history_dic[\"accuracy\"]\n",
    "validation_accuracy = history_dic[\"val_accuracy\"]\n",
    "epochs = range(1, len(history_dic['accuracy'])+1)\n",
    "plt.plot(epochs,accuracy_values,\"bo\", label = \"Training Acc\")\n",
    "plt.plot(epochs,validation_accuracy,\"b\", label = \"Validation Acc\")\n",
    "plt.xlabel(\"Epoches\")\n",
    "plt.ylabel('Loss')\n",
    "plt.legend()\n",
    "plt.show()"
   ]
  },
  {
   "attachments": {},
   "cell_type": "markdown",
   "metadata": {},
   "source": [
    "so from above graph we can see that validation accuracy is first decrease at 10 epoch"
   ]
  },
  {
   "cell_type": "code",
   "execution_count": 60,
   "metadata": {},
   "outputs": [
    {
     "data": {
      "text/html": [
       "<div>\n",
       "<style scoped>\n",
       "    .dataframe tbody tr th:only-of-type {\n",
       "        vertical-align: middle;\n",
       "    }\n",
       "\n",
       "    .dataframe tbody tr th {\n",
       "        vertical-align: top;\n",
       "    }\n",
       "\n",
       "    .dataframe thead th {\n",
       "        text-align: right;\n",
       "    }\n",
       "</style>\n",
       "<table border=\"1\" class=\"dataframe\">\n",
       "  <thead>\n",
       "    <tr style=\"text-align: right;\">\n",
       "      <th></th>\n",
       "      <th>loss</th>\n",
       "      <th>accuracy</th>\n",
       "      <th>val_loss</th>\n",
       "      <th>val_accuracy</th>\n",
       "    </tr>\n",
       "  </thead>\n",
       "  <tbody>\n",
       "    <tr>\n",
       "      <th>0</th>\n",
       "      <td>2.484611</td>\n",
       "      <td>0.550990</td>\n",
       "      <td>1.651831</td>\n",
       "      <td>0.665</td>\n",
       "    </tr>\n",
       "    <tr>\n",
       "      <th>1</th>\n",
       "      <td>1.349766</td>\n",
       "      <td>0.716863</td>\n",
       "      <td>1.275669</td>\n",
       "      <td>0.722</td>\n",
       "    </tr>\n",
       "    <tr>\n",
       "      <th>2</th>\n",
       "      <td>1.011530</td>\n",
       "      <td>0.781258</td>\n",
       "      <td>1.152619</td>\n",
       "      <td>0.741</td>\n",
       "    </tr>\n",
       "    <tr>\n",
       "      <th>3</th>\n",
       "      <td>0.794923</td>\n",
       "      <td>0.831245</td>\n",
       "      <td>1.054941</td>\n",
       "      <td>0.778</td>\n",
       "    </tr>\n",
       "    <tr>\n",
       "      <th>4</th>\n",
       "      <td>0.632773</td>\n",
       "      <td>0.867326</td>\n",
       "      <td>0.994266</td>\n",
       "      <td>0.799</td>\n",
       "    </tr>\n",
       "    <tr>\n",
       "      <th>5</th>\n",
       "      <td>0.499478</td>\n",
       "      <td>0.897018</td>\n",
       "      <td>0.964726</td>\n",
       "      <td>0.797</td>\n",
       "    </tr>\n",
       "    <tr>\n",
       "      <th>6</th>\n",
       "      <td>0.404842</td>\n",
       "      <td>0.913806</td>\n",
       "      <td>0.937744</td>\n",
       "      <td>0.817</td>\n",
       "    </tr>\n",
       "    <tr>\n",
       "      <th>7</th>\n",
       "      <td>0.331265</td>\n",
       "      <td>0.928339</td>\n",
       "      <td>0.936821</td>\n",
       "      <td>0.818</td>\n",
       "    </tr>\n",
       "    <tr>\n",
       "      <th>8</th>\n",
       "      <td>0.271938</td>\n",
       "      <td>0.939113</td>\n",
       "      <td>0.927609</td>\n",
       "      <td>0.817</td>\n",
       "    </tr>\n",
       "    <tr>\n",
       "      <th>9</th>\n",
       "      <td>0.231264</td>\n",
       "      <td>0.945252</td>\n",
       "      <td>0.991357</td>\n",
       "      <td>0.805</td>\n",
       "    </tr>\n",
       "    <tr>\n",
       "      <th>10</th>\n",
       "      <td>0.202850</td>\n",
       "      <td>0.948634</td>\n",
       "      <td>0.955499</td>\n",
       "      <td>0.820</td>\n",
       "    </tr>\n",
       "    <tr>\n",
       "      <th>11</th>\n",
       "      <td>0.177945</td>\n",
       "      <td>0.952017</td>\n",
       "      <td>0.992683</td>\n",
       "      <td>0.820</td>\n",
       "    </tr>\n",
       "    <tr>\n",
       "      <th>12</th>\n",
       "      <td>0.162392</td>\n",
       "      <td>0.953896</td>\n",
       "      <td>1.045036</td>\n",
       "      <td>0.803</td>\n",
       "    </tr>\n",
       "    <tr>\n",
       "      <th>13</th>\n",
       "      <td>0.144061</td>\n",
       "      <td>0.955400</td>\n",
       "      <td>1.163642</td>\n",
       "      <td>0.779</td>\n",
       "    </tr>\n",
       "    <tr>\n",
       "      <th>14</th>\n",
       "      <td>0.141692</td>\n",
       "      <td>0.955400</td>\n",
       "      <td>1.083294</td>\n",
       "      <td>0.799</td>\n",
       "    </tr>\n",
       "    <tr>\n",
       "      <th>15</th>\n",
       "      <td>0.128445</td>\n",
       "      <td>0.957404</td>\n",
       "      <td>1.057708</td>\n",
       "      <td>0.816</td>\n",
       "    </tr>\n",
       "    <tr>\n",
       "      <th>16</th>\n",
       "      <td>0.124870</td>\n",
       "      <td>0.957780</td>\n",
       "      <td>1.109135</td>\n",
       "      <td>0.797</td>\n",
       "    </tr>\n",
       "    <tr>\n",
       "      <th>17</th>\n",
       "      <td>0.120249</td>\n",
       "      <td>0.956026</td>\n",
       "      <td>1.100485</td>\n",
       "      <td>0.807</td>\n",
       "    </tr>\n",
       "    <tr>\n",
       "      <th>18</th>\n",
       "      <td>0.115506</td>\n",
       "      <td>0.957655</td>\n",
       "      <td>1.119687</td>\n",
       "      <td>0.801</td>\n",
       "    </tr>\n",
       "    <tr>\n",
       "      <th>19</th>\n",
       "      <td>0.108704</td>\n",
       "      <td>0.958657</td>\n",
       "      <td>1.164420</td>\n",
       "      <td>0.800</td>\n",
       "    </tr>\n",
       "  </tbody>\n",
       "</table>\n",
       "</div>"
      ],
      "text/plain": [
       "        loss  accuracy  val_loss  val_accuracy\n",
       "0   2.484611  0.550990  1.651831         0.665\n",
       "1   1.349766  0.716863  1.275669         0.722\n",
       "2   1.011530  0.781258  1.152619         0.741\n",
       "3   0.794923  0.831245  1.054941         0.778\n",
       "4   0.632773  0.867326  0.994266         0.799\n",
       "5   0.499478  0.897018  0.964726         0.797\n",
       "6   0.404842  0.913806  0.937744         0.817\n",
       "7   0.331265  0.928339  0.936821         0.818\n",
       "8   0.271938  0.939113  0.927609         0.817\n",
       "9   0.231264  0.945252  0.991357         0.805\n",
       "10  0.202850  0.948634  0.955499         0.820\n",
       "11  0.177945  0.952017  0.992683         0.820\n",
       "12  0.162392  0.953896  1.045036         0.803\n",
       "13  0.144061  0.955400  1.163642         0.779\n",
       "14  0.141692  0.955400  1.083294         0.799\n",
       "15  0.128445  0.957404  1.057708         0.816\n",
       "16  0.124870  0.957780  1.109135         0.797\n",
       "17  0.120249  0.956026  1.100485         0.807\n",
       "18  0.115506  0.957655  1.119687         0.801\n",
       "19  0.108704  0.958657  1.164420         0.800"
      ]
     },
     "execution_count": 60,
     "metadata": {},
     "output_type": "execute_result"
    }
   ],
   "source": [
    "import pandas as pd\n",
    "p = pd.DataFrame(history_dic)\n",
    "p"
   ]
  },
  {
   "attachments": {},
   "cell_type": "markdown",
   "metadata": {},
   "source": [
    "training the model till 9 epochs as till 9 epoch the loss "
   ]
  },
  {
   "cell_type": "code",
   "execution_count": 62,
   "metadata": {},
   "outputs": [
    {
     "name": "stdout",
     "output_type": "stream",
     "text": [
      "Epoch 1/9\n",
      "16/16 [==============================] - 1s 38ms/step - loss: 2.5863 - accuracy: 0.5451 - val_loss: 1.6856 - val_accuracy: 0.6500\n",
      "Epoch 2/9\n",
      "16/16 [==============================] - 0s 27ms/step - loss: 1.3884 - accuracy: 0.7095 - val_loss: 1.2727 - val_accuracy: 0.7200\n",
      "Epoch 3/9\n",
      "16/16 [==============================] - 0s 29ms/step - loss: 1.0417 - accuracy: 0.7775 - val_loss: 1.1274 - val_accuracy: 0.7540\n",
      "Epoch 4/9\n",
      "16/16 [==============================] - 1s 34ms/step - loss: 0.8251 - accuracy: 0.8200 - val_loss: 1.0271 - val_accuracy: 0.7850\n",
      "Epoch 5/9\n",
      "16/16 [==============================] - 0s 28ms/step - loss: 0.6661 - accuracy: 0.8543 - val_loss: 0.9721 - val_accuracy: 0.7910\n",
      "Epoch 6/9\n",
      "16/16 [==============================] - 0s 27ms/step - loss: 0.5338 - accuracy: 0.8849 - val_loss: 0.9161 - val_accuracy: 0.8070\n",
      "Epoch 7/9\n",
      "16/16 [==============================] - 0s 27ms/step - loss: 0.4253 - accuracy: 0.9105 - val_loss: 0.9086 - val_accuracy: 0.8170\n",
      "Epoch 8/9\n",
      "16/16 [==============================] - 0s 30ms/step - loss: 0.3444 - accuracy: 0.9266 - val_loss: 0.8827 - val_accuracy: 0.8230\n",
      "Epoch 9/9\n",
      "16/16 [==============================] - 0s 25ms/step - loss: 0.2830 - accuracy: 0.9374 - val_loss: 0.9083 - val_accuracy: 0.8160\n",
      "71/71 [==============================] - 0s 3ms/step - loss: 0.9974 - accuracy: 0.7796\n"
     ]
    }
   ],
   "source": [
    "model = models.Sequential()\n",
    "model.add(layers.Dense(64, activation = \"relu\",input_shape= (10000,)))\n",
    "model.add(layers.Dense(64 , activation = \"relu\"))\n",
    "model.add(layers.Dense(46 , activation = \"softmax\"))\n",
    "model.compile(optimizer=\"rmsprop\",loss=\"categorical_crossentropy\",metrics='accuracy')\n",
    "history = model.fit(partial_x_train,\n",
    "                    partial_y_trian,\n",
    "                    epochs=9,\n",
    "                    batch_size=512,\n",
    "                    validation_data= (x_val,y_val))\n",
    "re = model.evaluate(x_test,one_hot_test_label)"
   ]
  },
  {
   "attachments": {},
   "cell_type": "markdown",
   "metadata": {},
   "source": [
    "again making the graph"
   ]
  },
  {
   "cell_type": "code",
   "execution_count": 63,
   "metadata": {},
   "outputs": [
    {
     "data": {
      "image/png": "[encoded data removed]",
      "text/plain": [
       "<Figure size 432x288 with 1 Axes>"
      ]
     },
     "metadata": {
      "needs_background": "light"
     },
     "output_type": "display_data"
    }
   ],
   "source": [
    "history_dic = history.history\n",
    "accuracy_values = history_dic[\"accuracy\"]\n",
    "validation_accuracy = history_dic[\"val_accuracy\"]\n",
    "epochs = range(1, len(history_dic['accuracy'])+1)\n",
    "plt.plot(epochs,accuracy_values,\"bo\", label = \"Training Acc\")\n",
    "plt.plot(epochs,validation_accuracy,\"b\", label = \"Validation Acc\")\n",
    "plt.xlabel(\"Epoches\")\n",
    "plt.ylabel('Loss')\n",
    "plt.legend()\n",
    "plt.show()"
   ]
  },
  {
   "attachments": {},
   "cell_type": "markdown",
   "metadata": {},
   "source": [
    "now it is better so we giv it new data to check"
   ]
  },
  {
   "attachments": {},
   "cell_type": "markdown",
   "metadata": {},
   "source": [
    "this give the probabilty of the given text to belong to some specific category"
   ]
  },
  {
   "cell_type": "code",
   "execution_count": 90,
   "metadata": {},
   "outputs": [
    {
     "name": "stdout",
     "output_type": "stream",
     "text": [
      "71/71 [==============================] - 0s 5ms/step\n",
      "0 0.00015639876\n",
      "1 0.0005289141\n",
      "2 7.651443e-05\n",
      "3 0.46829087\n",
      "4 0.4921921\n",
      "5 0.00012382182\n",
      "6 0.0018537308\n",
      "7 0.00017049404\n",
      "8 0.00584429\n",
      "9 0.00040132698\n",
      "10 0.00021738143\n",
      "11 0.0026881734\n",
      "12 4.2428597e-05\n",
      "13 0.00036695416\n",
      "14 0.00033370638\n",
      "15 0.00010482357\n",
      "16 0.005393504\n",
      "17 0.00017984967\n",
      "18 0.0006014815\n",
      "19 0.0096652955\n",
      "20 0.0013392743\n",
      "21 0.0014842283\n",
      "22 0.00042952094\n",
      "23 0.00022080027\n",
      "24 0.00015639862\n",
      "25 0.00048684562\n",
      "26 3.1630454e-05\n",
      "27 2.9985264e-05\n",
      "28 5.487522e-05\n",
      "29 0.00049625366\n",
      "30 0.00072963914\n",
      "31 0.00062839646\n",
      "32 0.00046106058\n",
      "33 1.3015971e-05\n",
      "34 0.00045252743\n",
      "35 4.7134272e-05\n",
      "36 0.0016345814\n",
      "37 0.00044374217\n",
      "38 8.2436796e-05\n",
      "39 0.00063349295\n",
      "40 7.043894e-05\n",
      "41 0.0007370556\n",
      "42 8.101409e-06\n",
      "43 5.1121486e-05\n",
      "44 1.1978999e-05\n",
      "45 3.33564e-05\n"
     ]
    }
   ],
   "source": [
    "pre = model.predict(x_test)\n",
    "for i in range(0,len(pre[0])):\n",
    "    print(i, pre[0][i])"
   ]
  },
  {
   "attachments": {},
   "cell_type": "markdown",
   "metadata": {},
   "source": [
    "<h1> Saving the Model into pkl"
   ]
  },
  {
   "cell_type": "code",
   "execution_count": 108,
   "metadata": {},
   "outputs": [
    {
     "name": "stdout",
     "output_type": "stream",
     "text": [
      "WARNING:tensorflow:AutoGraph could not transform <function trace_model_call.<locals>._wrapped_model at 0x0000024900B39C10> and will run it as-is.\n",
      "Cause: Unable to locate the source code of <function trace_model_call.<locals>._wrapped_model at 0x0000024900B39C10>. Note that functions defined in certain environments, like the interactive Python shell, do not expose their source code. If that is the case, you should define them in a .py source file. If you are certain the code is graph-compatible, wrap the call using @tf.autograph.experimental.do_not_convert. Original error: could not get source code\n",
      "To silence this warning, decorate the function with @tf.autograph.experimental.do_not_convert\n",
      "WARNING: AutoGraph could not transform <function trace_model_call.<locals>._wrapped_model at 0x0000024900B39C10> and will run it as-is.\n",
      "Cause: Unable to locate the source code of <function trace_model_call.<locals>._wrapped_model at 0x0000024900B39C10>. Note that functions defined in certain environments, like the interactive Python shell, do not expose their source code. If that is the case, you should define them in a .py source file. If you are certain the code is graph-compatible, wrap the call using @tf.autograph.experimental.do_not_convert. Original error: could not get source code\n",
      "To silence this warning, decorate the function with @tf.autograph.experimental.do_not_convert\n",
      "INFO:tensorflow:Assets written to: Reuters.pkl\\assets\n"
     ]
    }
   ],
   "source": [
    "from keras import models\n",
    "model.save(\"Reuters.pkl\")"
   ]
  },
  {
   "attachments": {},
   "cell_type": "markdown",
   "metadata": {},
   "source": [
    "np.argmax is giving the index with the highest probability"
   ]
  },
  {
   "cell_type": "code",
   "execution_count": 89,
   "metadata": {},
   "outputs": [
    {
     "data": {
      "text/plain": [
       "1"
      ]
     },
     "execution_count": 89,
     "metadata": {},
     "output_type": "execute_result"
    }
   ],
   "source": [
    "np.argmax(pre[2])"
   ]
  },
  {
   "cell_type": "code",
   "execution_count": 95,
   "metadata": {},
   "outputs": [
    {
     "name": "stdout",
     "output_type": "stream",
     "text": [
      "0.00015640\n",
      "0.00052891\n",
      "0.00007651\n",
      "0.46829087\n",
      "0.49219209\n",
      "0.00012382\n",
      "0.00185373\n",
      "0.00017049\n",
      "0.00584429\n",
      "0.00040133\n",
      "0.00021738\n",
      "0.00268817\n",
      "0.00004243\n",
      "0.00036695\n",
      "0.00033371\n",
      "0.00010482\n",
      "0.00539350\n",
      "0.00017985\n",
      "0.00060148\n",
      "0.00966530\n",
      "0.00133927\n",
      "0.00148423\n",
      "0.00042952\n",
      "0.00022080\n",
      "0.00015640\n",
      "0.00048685\n",
      "0.00003163\n",
      "0.00002999\n",
      "0.00005488\n",
      "0.00049625\n",
      "0.00072964\n",
      "0.00062840\n",
      "0.00046106\n",
      "0.00001302\n",
      "0.00045253\n",
      "0.00004713\n",
      "0.00163458\n",
      "0.00044374\n",
      "0.00008244\n",
      "0.00063349\n",
      "0.00007044\n",
      "0.00073706\n",
      "0.00000810\n",
      "0.00005112\n",
      "0.00001198\n",
      "0.00003336\n",
      "49.219209\n"
     ]
    }
   ],
   "source": [
    "for i in pre[0]:\n",
    "    print(\"{:.8f}\".format(i))\n",
    "print(0.49219209*100)"
   ]
  },
  {
   "attachments": {},
   "cell_type": "markdown",
   "metadata": {},
   "source": [
    "<h1>This is the list of the categories along with the index</h1>\n",
    "\"Business and financial\",\n",
    "\"aluminum market\",\n",
    "\"barley market\",\n",
    "\"balance of payments\",\n",
    "\"meat markets\",\n",
    "'castor-oil market',\n",
    "\"cocoa industry\",\n",
    "\"coconut market\",\n",
    "\"coffee market\",\n",
    "\"copper market\",\n",
    "\"corn market\",\n",
    "\"cotton market\",\n",
    "\"consumer price index and inflation\",\n",
    "'crude market',\n",
    "\"german currency\",\n",
    "\"US dollar foreign\",\n",
    "\"German currency\",\n",
    "\"earn\",\n",
    "'fuel market',\n",
    "'gas market',\n",
    "'gross prodcution',\n",
    "'gold market',\n",
    "'grain market',\n",
    "'oil market',\n",
    "'hog market',\n",
    "\"housing market\",\n",
    "\"income n earning\",\n",
    "\"interest rates\",\n",
    "\"industrial production\",\n",
    "\"iron-steel\",\n",
    "\"jet market\",\n",
    "\"jobs market\",\n",
    "\"lead market\",\n",
    "\"leading economy indicators\",\n",
    "\"livestock market\",\n",
    "\"lumber market\",\n",
    "\"meal-feed\",\n",
    "\"money-fx\",\n",
    "\"nickel market\",\n",
    "\"orange market\",\n",
    "\"petro-chemical\",\n",
    "\"platinum market\",\n",
    "\"rapeseed\",\n",
    "\"reserves bank\",\n",
    "\"retail\",\n",
    "\"rice market\""
   ]
  },
  {
   "attachments": {},
   "cell_type": "markdown",
   "metadata": {},
   "source": [
    "making the list of the categories"
   ]
  },
  {
   "cell_type": "code",
   "execution_count": 97,
   "metadata": {},
   "outputs": [],
   "source": [
    "articlelist = [\"Business and financial\",\n",
    "\"aluminum market\",\n",
    "\"barley market\",\n",
    "\"balance of payments\",\n",
    "\"meat markets\",\n",
    "'castor-oil market',\n",
    "\"cocoa industry\",\n",
    "\"coconut market\",\n",
    "\"coffee market\",\n",
    "\"copper market\",\n",
    "\"corn market\",\n",
    "\"cotton market\",\n",
    "\"consumer price index and inflation\",\n",
    "'crude market',\n",
    "\"german currency\",\n",
    "\"US dollar foreign\",\n",
    "\"German currency\",\n",
    "\"earn\",\n",
    "'fuel market',\n",
    "'gas market',\n",
    "'gross prodcution',\n",
    "'gold market',\n",
    "'grain market',\n",
    "'oil market',\n",
    "'hog market',\n",
    "\"housing market\",\n",
    "\"income n earning\",\n",
    "\"interest rates\",\n",
    "\"industrial production\",\n",
    "\"iron-steel\",\n",
    "\"jet market\",\n",
    "\"jobs market\",\n",
    "\"lead market\",\n",
    "\"leading economy indicators\",\n",
    "\"livestock market\",\n",
    "\"lumber market\",\n",
    "\"meal-feed\",\n",
    "\"money-fx\",\n",
    "\"nickel market\",\n",
    "\"orange market\",\n",
    "\"petro-chemical\",\n",
    "\"platinum market\",\n",
    "\"rapeseed\",\n",
    "\"reserves bank\",\n",
    "\"retail\",\n",
    "\"rice market\"]\n"
   ]
  },
  {
   "attachments": {},
   "cell_type": "markdown",
   "metadata": {},
   "source": [
    "making the dic of it"
   ]
  },
  {
   "cell_type": "code",
   "execution_count": 99,
   "metadata": {},
   "outputs": [
    {
     "data": {
      "text/plain": [
       "{0: 'Business and financial',\n",
       " 1: 'aluminum market',\n",
       " 2: 'barley market',\n",
       " 3: 'balance of payments',\n",
       " 4: 'meat markets',\n",
       " 5: 'castor-oil market',\n",
       " 6: 'cocoa industry',\n",
       " 7: 'coconut market',\n",
       " 8: 'coffee market',\n",
       " 9: 'copper market',\n",
       " 10: 'corn market',\n",
       " 11: 'cotton market',\n",
       " 12: 'consumer price index and inflation',\n",
       " 13: 'crude market',\n",
       " 14: 'german currency',\n",
       " 15: 'US dollar foreign',\n",
       " 16: 'German currency',\n",
       " 17: 'earn',\n",
       " 18: 'fuel market',\n",
       " 19: 'gas market',\n",
       " 20: 'gross prodcution',\n",
       " 21: 'gold market',\n",
       " 22: 'grain market',\n",
       " 23: 'oil market',\n",
       " 24: 'hog market',\n",
       " 25: 'housing market',\n",
       " 26: 'income n earning',\n",
       " 27: 'interest rates',\n",
       " 28: 'industrial production',\n",
       " 29: 'iron-steel',\n",
       " 30: 'jet market',\n",
       " 31: 'jobs market',\n",
       " 32: 'lead market',\n",
       " 33: 'leading economy indicators',\n",
       " 34: 'livestock market',\n",
       " 35: 'lumber market',\n",
       " 36: 'meal-feed',\n",
       " 37: 'money-fx',\n",
       " 38: 'nickel market',\n",
       " 39: 'orange market',\n",
       " 40: 'petro-chemical',\n",
       " 41: 'platinum market',\n",
       " 42: 'rapeseed',\n",
       " 43: 'reserves bank',\n",
       " 44: 'retail',\n",
       " 45: 'rice market'}"
      ]
     },
     "execution_count": 99,
     "metadata": {},
     "output_type": "execute_result"
    }
   ],
   "source": [
    "article_dic = {index : value for index , value in enumerate(articlelist)}\n",
    "article_dic"
   ]
  },
  {
   "attachments": {},
   "cell_type": "markdown",
   "metadata": {},
   "source": [
    "then matching the index with the key of the dic to get the category to show"
   ]
  },
  {
   "cell_type": "code",
   "execution_count": 106,
   "metadata": {},
   "outputs": [
    {
     "name": "stdout",
     "output_type": "stream",
     "text": [
      "this articel belongs to this categoty -> aluminum market  about  73.65558743476868 percent\n"
     ]
    }
   ],
   "source": [
    "articlenumber = np.argmax(pre[2])\n",
    "print(\"this articel belongs to this categoty ->\",article_dic[articlenumber],\" about \",pre[2][articlenumber]*100 ,\"percent\")\n"
   ]
  },
  {
   "attachments": {},
   "cell_type": "markdown",
   "metadata": {},
   "source": [
    "<h1>Code to give custome string"
   ]
  },
  {
   "cell_type": "code",
   "execution_count": 109,
   "metadata": {},
   "outputs": [],
   "source": [
    "#loading the model for checking\n",
    "from keras.models import load_model\n",
    "m = load_model(\"Reuters.pkl\")"
   ]
  },
  {
   "cell_type": "code",
   "execution_count": 125,
   "metadata": {},
   "outputs": [],
   "source": [
    "from keras.preprocessing.text import Tokenizer\n",
    "def custome_data(text):\n",
    "    max= 10000\n",
    "    tok = Tokenizer(num_words=max)\n",
    "    tok.fit_on_texts([text])\n",
    "    s = tok.texts_to_sequences([text])\n",
    "    x = vectorizing(s,dimension=max)\n",
    "    p = m.predict(x)\n",
    "    storing_the_index_of_highest_value = np.argmax(p)\n",
    "    highes_value = p[0][storing_the_index_of_highest_value]\n",
    "    print(\"this articel belongs to this categoty ->\",article_dic[storing_the_index_of_highest_value],\" about \",highes_value*100 ,\"percent\")\n",
    "    print(p,highes_value,storing_the_index_of_highest_value)\n",
    "\n"
   ]
  },
  {
   "cell_type": "code",
   "execution_count": 126,
   "metadata": {},
   "outputs": [
    {
     "name": "stdout",
     "output_type": "stream",
     "text": [
      "1/1 [==============================] - 0s 28ms/step\n",
      "this articel belongs to this categoty -> balance of payments  about  57.10408687591553 percent\n",
      "[[8.29953933e-04 2.25889795e-02 1.68197404e-03 5.71040869e-01\n",
      "  9.16302428e-02 2.83772917e-03 4.69555194e-03 2.83007766e-03\n",
      "  1.15290675e-02 2.81067705e-03 5.40382043e-03 3.96031588e-02\n",
      "  2.40618782e-03 7.70705612e-03 3.96625185e-03 1.90444267e-03\n",
      "  7.95096755e-02 2.32324889e-03 8.28464516e-03 4.56946082e-02\n",
      "  2.01414675e-02 2.26740818e-03 3.41907702e-03 3.32393567e-03\n",
      "  8.19714274e-03 3.70474090e-03 7.98341935e-04 8.92527925e-04\n",
      "  2.74930918e-03 3.68882483e-03 2.73225410e-03 8.87692347e-03\n",
      "  1.89233443e-03 3.85023654e-04 5.44442656e-03 1.88640101e-04\n",
      "  8.36569816e-03 1.87627831e-03 1.71599537e-03 2.60150456e-03\n",
      "  1.45864615e-03 3.65552562e-03 4.71864769e-04 5.57386491e-04\n",
      "  6.81820500e-04 6.34668628e-04]] 0.57104087 3\n"
     ]
    }
   ],
   "source": [
    "t = \"Crude oil is a mixture of comparatively volatile liquid hydrocarbons (compounds composed mainly of hydrogen and carbon), though it also contains some nitrogen, sulfur, and oxygen. Those elements form a large variety of complex molecular structures, some of which cannot be readily identified. Regardless of variations, however, almost all crude oil ranges from 82 to 87 percent carbon by weight and 12 to 15 percent hydrogen by weight.\"\n",
    "\n",
    "\n",
    "custome_data(t)"
   ]
  },
  {
   "cell_type": "code",
   "execution_count": 5,
   "metadata": {},
   "outputs": [
    {
     "ename": "ModuleNotFoundError",
     "evalue": "No module named 'tensorflow.python.eager.polymorphic_function'",
     "output_type": "error",
     "traceback": [
      "\u001b[1;31m---------------------------------------------------------------------------\u001b[0m",
      "\u001b[1;31mModuleNotFoundError\u001b[0m                       Traceback (most recent call last)",
      "\u001b[1;32me:\\Mehroz Personals\\PIAIC\\Second Time Admission\\AI\\Quater 2\\PIaic Learning\\Deep Learning\\Chapter3\\Reuters Review\\Reuters Implmented Fully\\reutere_implmentation.ipynb Cell 52\u001b[0m in \u001b[0;36m<cell line: 1>\u001b[1;34m()\u001b[0m\n\u001b[1;32m----> <a href='vscode-notebook-cell:/e%3A/Mehroz%20Personals/PIAIC/Second%20Time%20Admission/AI/Quater%202/PIaic%20Learning/Deep%20Learning/Chapter3/Reuters%20Review/Reuters%20Implmented%20Fully/reutere_implmentation.ipynb#Y104sZmlsZQ%3D%3D?line=0'>1</a>\u001b[0m \u001b[39mimport\u001b[39;00m \u001b[39mtensorflow\u001b[39;00m \u001b[39mas\u001b[39;00m \u001b[39mtf\u001b[39;00m\n",
      "File \u001b[1;32mc:\\Users\\dell\\anaconda3\\lib\\site-packages\\tensorflow\\__init__.py:45\u001b[0m, in \u001b[0;36m<module>\u001b[1;34m\u001b[0m\n\u001b[0;32m     42\u001b[0m \u001b[39mfrom\u001b[39;00m \u001b[39mtensorflow\u001b[39;00m\u001b[39m.\u001b[39;00m\u001b[39mpython\u001b[39;00m \u001b[39mimport\u001b[39;00m tf2 \u001b[39mas\u001b[39;00m _tf2\n\u001b[0;32m     43\u001b[0m _tf2\u001b[39m.\u001b[39menable()\n\u001b[1;32m---> 45\u001b[0m \u001b[39mfrom\u001b[39;00m \u001b[39m.\u001b[39;00m\u001b[39m_api\u001b[39;00m\u001b[39m.\u001b[39;00m\u001b[39mv2\u001b[39;00m \u001b[39mimport\u001b[39;00m __internal__\n\u001b[0;32m     46\u001b[0m \u001b[39mfrom\u001b[39;00m \u001b[39m.\u001b[39;00m\u001b[39m_api\u001b[39;00m\u001b[39m.\u001b[39;00m\u001b[39mv2\u001b[39;00m \u001b[39mimport\u001b[39;00m __operators__\n\u001b[0;32m     47\u001b[0m \u001b[39mfrom\u001b[39;00m \u001b[39m.\u001b[39;00m\u001b[39m_api\u001b[39;00m\u001b[39m.\u001b[39;00m\u001b[39mv2\u001b[39;00m \u001b[39mimport\u001b[39;00m audio\n",
      "File \u001b[1;32mc:\\Users\\dell\\anaconda3\\lib\\site-packages\\tensorflow\\_api\\v2\\__internal__\\__init__.py:14\u001b[0m, in \u001b[0;36m<module>\u001b[1;34m\u001b[0m\n\u001b[0;32m     12\u001b[0m \u001b[39mfrom\u001b[39;00m \u001b[39m.\u001b[39;00m \u001b[39mimport\u001b[39;00m eager_context\n\u001b[0;32m     13\u001b[0m \u001b[39mfrom\u001b[39;00m \u001b[39m.\u001b[39;00m \u001b[39mimport\u001b[39;00m feature_column\n\u001b[1;32m---> 14\u001b[0m \u001b[39mfrom\u001b[39;00m \u001b[39m.\u001b[39;00m \u001b[39mimport\u001b[39;00m function\n\u001b[0;32m     15\u001b[0m \u001b[39mfrom\u001b[39;00m \u001b[39m.\u001b[39;00m \u001b[39mimport\u001b[39;00m graph_util\n\u001b[0;32m     16\u001b[0m \u001b[39mfrom\u001b[39;00m \u001b[39m.\u001b[39;00m \u001b[39mimport\u001b[39;00m mixed_precision\n",
      "File \u001b[1;32mc:\\Users\\dell\\anaconda3\\lib\\site-packages\\tensorflow\\_api\\v2\\__internal__\\function\\__init__.py:8\u001b[0m, in \u001b[0;36m<module>\u001b[1;34m\u001b[0m\n\u001b[0;32m      3\u001b[0m \u001b[39m\"\"\"Public API for tf.__internal__.function namespace.\u001b[39;00m\n\u001b[0;32m      4\u001b[0m \u001b[39m\"\"\"\u001b[39;00m\n\u001b[0;32m      6\u001b[0m \u001b[39mimport\u001b[39;00m \u001b[39msys\u001b[39;00m \u001b[39mas\u001b[39;00m \u001b[39m_sys\u001b[39;00m\n\u001b[1;32m----> 8\u001b[0m \u001b[39mfrom\u001b[39;00m \u001b[39mtensorflow\u001b[39;00m\u001b[39m.\u001b[39;00m\u001b[39mpython\u001b[39;00m\u001b[39m.\u001b[39;00m\u001b[39meager\u001b[39;00m\u001b[39m.\u001b[39;00m\u001b[39mpolymorphic_function\u001b[39;00m\u001b[39m.\u001b[39;00m\u001b[39mpolymorphic_function\u001b[39;00m \u001b[39mimport\u001b[39;00m Function\n\u001b[0;32m      9\u001b[0m \u001b[39mfrom\u001b[39;00m \u001b[39mtensorflow\u001b[39;00m\u001b[39m.\u001b[39;00m\u001b[39mpython\u001b[39;00m\u001b[39m.\u001b[39;00m\u001b[39meager\u001b[39;00m\u001b[39m.\u001b[39;00m\u001b[39mpolymorphic_function\u001b[39;00m\u001b[39m.\u001b[39;00m\u001b[39mquarantine\u001b[39;00m \u001b[39mimport\u001b[39;00m defun_with_attributes\n",
      "\u001b[1;31mModuleNotFoundError\u001b[0m: No module named 'tensorflow.python.eager.polymorphic_function'"
     ]
    }
   ],
   "source": [
    "import tensorflow as tf"
   ]
  }
 ],
 "metadata": {
  "kernelspec": {
   "display_name": "base",
   "language": "python",
   "name": "python3"
  },
  "language_info": {
   "codemirror_mode": {
    "name": "ipython",
    "version": 3
   },
   "file_extension": ".py",
   "mimetype": "text/x-python",
   "name": "python",
   "nbconvert_exporter": "python",
   "pygments_lexer": "ipython3",
   "version": "3.9.12"
  },
  "orig_nbformat": 4
 },
 "nbformat": 4,
 "nbformat_minor": 2
}
