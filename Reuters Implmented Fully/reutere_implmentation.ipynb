{
 "cells": [
  {
   "attachments": {},
   "cell_type": "markdown",
   "metadata": {},
   "source": [
    "<h1>Reuters Full code along with the Flask"
   ]
  },
  {
   "cell_type": "code",
   "execution_count": 1,
   "metadata": {},
   "outputs": [],
   "source": [
    "# importing libraries\n",
    "from keras.datasets import reuters\n",
    "import numpy as np \n",
    "from keras import models,utils\n",
    "from keras import layers\n",
    "import matplotlib.pyplot as plt"
   ]
  },
  {
   "cell_type": "code",
   "execution_count": 2,
   "metadata": {},
   "outputs": [
    {
     "name": "stdout",
     "output_type": "stream",
     "text": [
      "Downloading data from https://storage.googleapis.com/tensorflow/tf-keras-datasets/reuters.npz\n",
      "2110848/2110848 [==============================] - 1s 1us/step\n"
     ]
    }
   ],
   "source": [
    "from keras.datasets import reuters\n",
    "(train_data, train_label),(test_data, test_label) = reuters.load_data(num_words=10000)"
   ]
  },
  {
   "cell_type": "code",
   "execution_count": 3,
   "metadata": {},
   "outputs": [
    {
     "data": {
      "text/plain": [
       "array([list([1, 2, 2, 8, 43, 10, 447, 5, 25, 207, 270, 5, 3095, 111, 16, 369, 186, 90, 67, 7, 89, 5, 19, 102, 6, 19, 124, 15, 90, 67, 84, 22, 482, 26, 7, 48, 4, 49, 8, 864, 39, 209, 154, 6, 151, 6, 83, 11, 15, 22, 155, 11, 15, 7, 48, 9, 4579, 1005, 504, 6, 258, 6, 272, 11, 15, 22, 134, 44, 11, 15, 16, 8, 197, 1245, 90, 67, 52, 29, 209, 30, 32, 132, 6, 109, 15, 17, 12]),\n",
       "       list([1, 3267, 699, 3434, 2295, 56, 2, 7511, 9, 56, 3906, 1073, 81, 5, 1198, 57, 366, 737, 132, 20, 4093, 7, 2, 49, 2295, 2, 1037, 3267, 699, 3434, 8, 7, 10, 241, 16, 855, 129, 231, 783, 5, 4, 587, 2295, 2, 2, 775, 7, 48, 34, 191, 44, 35, 1795, 505, 17, 12]),\n",
       "       list([1, 53, 12, 284, 15, 14, 272, 26, 53, 959, 32, 818, 15, 14, 272, 26, 39, 684, 70, 11, 14, 12, 3886, 18, 180, 183, 187, 70, 11, 14, 102, 32, 11, 29, 53, 44, 704, 15, 14, 19, 758, 15, 53, 959, 47, 1013, 15, 14, 19, 132, 15, 39, 965, 32, 11, 14, 147, 72, 11, 180, 183, 187, 44, 11, 14, 102, 19, 11, 123, 186, 90, 67, 960, 4, 78, 13, 68, 467, 511, 110, 59, 89, 90, 67, 1390, 55, 2678, 92, 617, 80, 1274, 46, 905, 220, 13, 4, 346, 48, 235, 629, 5, 211, 5, 1118, 7, 2, 81, 5, 187, 11, 15, 9, 1709, 201, 5, 47, 3615, 18, 478, 4514, 5, 1118, 7, 232, 2, 71, 5, 160, 63, 11, 9, 2, 81, 5, 102, 59, 11, 17, 12]),\n",
       "       ...,\n",
       "       list([1, 141, 3890, 387, 81, 8, 16, 1629, 10, 340, 1241, 850, 31, 56, 3890, 691, 9, 1241, 71, 9, 5985, 2, 2, 699, 2, 2, 2, 699, 244, 5945, 4, 49, 8, 4, 656, 850, 33, 2993, 9, 2139, 340, 3371, 1493, 9, 2, 22, 2, 1094, 687, 83, 35, 15, 257, 6, 57, 9190, 7, 4, 5956, 654, 5, 2, 6191, 1371, 4, 49, 8, 16, 369, 646, 6, 1076, 7, 124, 407, 17, 12]),\n",
       "       list([1, 53, 46, 957, 26, 14, 74, 132, 26, 39, 46, 258, 3614, 18, 14, 74, 134, 5131, 18, 88, 2321, 72, 11, 14, 1842, 32, 11, 123, 383, 89, 39, 46, 235, 10, 864, 728, 5, 258, 44, 11, 15, 22, 753, 9, 42, 92, 131, 728, 5, 69, 312, 11, 15, 22, 222, 2, 3237, 383, 48, 39, 74, 235, 10, 864, 276, 5, 61, 32, 11, 15, 21, 4, 211, 5, 126, 1072, 42, 92, 131, 46, 19, 352, 11, 15, 22, 710, 220, 9, 42, 92, 131, 276, 5, 59, 61, 11, 15, 22, 10, 455, 7, 1172, 137, 336, 1325, 6, 1532, 142, 971, 6463, 43, 359, 5, 4, 326, 753, 364, 17, 12]),\n",
       "       list([1, 227, 2406, 91, 2, 125, 2855, 21, 4, 3976, 76, 7, 4, 757, 481, 3976, 790, 5259, 5654, 9, 111, 149, 8, 7, 10, 76, 223, 51, 4, 417, 8, 1047, 91, 6917, 1688, 340, 7, 194, 9411, 6, 1894, 21, 127, 2151, 2394, 1456, 6, 3034, 4, 329, 433, 7, 65, 87, 1127, 10, 8219, 1475, 290, 9, 21, 567, 16, 1926, 24, 4, 76, 209, 30, 4033, 6655, 5654, 8, 4, 60, 8, 4, 966, 308, 40, 2575, 129, 2, 295, 277, 1071, 9, 24, 286, 2114, 234, 222, 9, 4, 906, 3994, 8519, 114, 5758, 1752, 7, 4, 113, 17, 12])],\n",
       "      dtype=object)"
      ]
     },
     "execution_count": 3,
     "metadata": {},
     "output_type": "execute_result"
    }
   ],
   "source": [
    "train_data"
   ]
  },
  {
   "attachments": {},
   "cell_type": "markdown",
   "metadata": {},
   "source": [
    "Labels are the category from which the articel belongs"
   ]
  },
  {
   "cell_type": "code",
   "execution_count": 4,
   "metadata": {},
   "outputs": [
    {
     "data": {
      "text/plain": [
       "array([ 3,  4,  3, ..., 25,  3, 25], dtype=int64)"
      ]
     },
     "execution_count": 4,
     "metadata": {},
     "output_type": "execute_result"
    }
   ],
   "source": [
    "train_label"
   ]
  },
  {
   "attachments": {},
   "cell_type": "markdown",
   "metadata": {},
   "source": [
    "<h1> Preprocessing the data"
   ]
  },
  {
   "attachments": {},
   "cell_type": "markdown",
   "metadata": {},
   "source": [
    "reversing the firsts review"
   ]
  },
  {
   "cell_type": "code",
   "execution_count": 5,
   "metadata": {},
   "outputs": [
    {
     "name": "stdout",
     "output_type": "stream",
     "text": [
      "Downloading data from https://storage.googleapis.com/tensorflow/tf-keras-datasets/reuters_word_index.json\n",
      "550378/550378 [==============================] - 0s 1us/step\n"
     ]
    },
    {
     "data": {
      "text/plain": [
       "'? ? ? said as a result of its december acquisition of space co it expects earnings per share in 1987 of 1 15 to 1 30 dlrs per share up from 70 cts in 1986 the company said pretax net should rise to nine to 10 mln dlrs from six mln dlrs in 1986 and rental operation revenues to 19 to 22 mln dlrs from 12 5 mln dlrs it said cash flow per share this year should be 2 50 to three dlrs reuter 3'"
      ]
     },
     "execution_count": 5,
     "metadata": {},
     "output_type": "execute_result"
    }
   ],
   "source": [
    "word_index = reuters.get_word_index()\n",
    "reversed_word_index = dict([(value , key) for (key , value) in word_index.items()])\n",
    "decoded_review = ' '.join([reversed_word_index.get(i -3 , '?') for i in train_data[0]])\n",
    "decoded_review"
   ]
  },
  {
   "attachments": {},
   "cell_type": "markdown",
   "metadata": {},
   "source": [
    "<h1>Vetorizing the data</h1>\n",
    "<br>here we have defined the data which is converting the data into vector form"
   ]
  },
  {
   "cell_type": "code",
   "execution_count": 6,
   "metadata": {},
   "outputs": [],
   "source": [
    "def vectorizing(sequence , dimension = 10000):\n",
    "    result = np.zeros((len(sequence),dimension))\n",
    "    for i , s in enumerate(sequence):\n",
    "        result[i , s] = 1\n",
    "    return result\n"
   ]
  },
  {
   "cell_type": "code",
   "execution_count": 7,
   "metadata": {},
   "outputs": [],
   "source": [
    "x_train = vectorizing(train_data)\n",
    "x_test = vectorizing(test_data)"
   ]
  },
  {
   "cell_type": "code",
   "execution_count": 8,
   "metadata": {},
   "outputs": [
    {
     "name": "stdout",
     "output_type": "stream",
     "text": [
      "Shape of x_train data (8982, 10000)\n",
      "Shape of x_test data (2246, 10000)\n"
     ]
    }
   ],
   "source": [
    "print(\"Shape of x_train data\" ,x_train.shape)\n",
    "print(\"Shape of x_test data\" ,x_test.shape)"
   ]
  },
  {
   "attachments": {},
   "cell_type": "markdown",
   "metadata": {},
   "source": [
    "for labels we are going to use one-hot encoding , for this we are going to use uitls function of keras"
   ]
  },
  {
   "cell_type": "code",
   "execution_count": 9,
   "metadata": {},
   "outputs": [],
   "source": [
    "one_hot_train_label = utils.to_categorical(train_label)\n",
    "one_hot_test_label = utils.to_categorical(test_label)"
   ]
  },
  {
   "cell_type": "code",
   "execution_count": 10,
   "metadata": {},
   "outputs": [
    {
     "name": "stdout",
     "output_type": "stream",
     "text": [
      "[[0. 0. 0. ... 0. 0. 0.]\n",
      " [0. 0. 0. ... 0. 0. 0.]\n",
      " [0. 1. 0. ... 0. 0. 0.]\n",
      " ...\n",
      " [0. 0. 0. ... 0. 0. 0.]\n",
      " [0. 0. 0. ... 0. 0. 0.]\n",
      " [0. 0. 0. ... 0. 0. 0.]]\n",
      "shape of labels  (2246, 46)\n"
     ]
    }
   ],
   "source": [
    "#now labels are also in the form of vectors\n",
    "print(one_hot_test_label)\n",
    "print(\"shape of labels \",one_hot_test_label.shape)"
   ]
  },
  {
   "attachments": {},
   "cell_type": "markdown",
   "metadata": {},
   "source": [
    "<h1>Making the neural network"
   ]
  },
  {
   "attachments": {},
   "cell_type": "markdown",
   "metadata": {},
   "source": [
    "here we have to keep in mind that number of classification class are 46 , so in the last layer units will be 46 and activation function will be \"softmax\n",
    "\""
   ]
  },
  {
   "cell_type": "code",
   "execution_count": 11,
   "metadata": {},
   "outputs": [],
   "source": [
    "model = models.Sequential()\n",
    "model.add(layers.Dense(64, activation = \"relu\",input_shape= (10000,)))\n",
    "model.add(layers.Dense(64 , activation = \"relu\"))\n",
    "model.add(layers.Dense(46 , activation = \"softmax\"))"
   ]
  },
  {
   "attachments": {},
   "cell_type": "markdown",
   "metadata": {},
   "source": [
    "as we are using softmax which is used in probability distribution so the best loss function will be categorical_crossentropy"
   ]
  },
  {
   "attachments": {},
   "cell_type": "markdown",
   "metadata": {},
   "source": [
    "separating some of the data fro validation purpose"
   ]
  },
  {
   "cell_type": "code",
   "execution_count": 12,
   "metadata": {},
   "outputs": [],
   "source": [
    "x_val = x_train[:1000]\n",
    "partial_x_train = x_train[1000:]\n",
    "y_val = one_hot_train_label[:1000]\n",
    "partial_y_trian = one_hot_train_label[1000:]"
   ]
  },
  {
   "attachments": {},
   "cell_type": "markdown",
   "metadata": {},
   "source": [
    "<h1>Feeding the network"
   ]
  },
  {
   "cell_type": "code",
   "execution_count": 57,
   "metadata": {},
   "outputs": [
    {
     "name": "stdout",
     "output_type": "stream",
     "text": [
      "Epoch 1/20\n",
      "16/16 [==============================] - 1s 40ms/step - loss: 2.4846 - accuracy: 0.5510 - val_loss: 1.6518 - val_accuracy: 0.6650\n",
      "Epoch 2/20\n",
      "16/16 [==============================] - 0s 31ms/step - loss: 1.3498 - accuracy: 0.7169 - val_loss: 1.2757 - val_accuracy: 0.7220\n",
      "Epoch 3/20\n",
      "16/16 [==============================] - 0s 27ms/step - loss: 1.0115 - accuracy: 0.7813 - val_loss: 1.1526 - val_accuracy: 0.7410\n",
      "Epoch 4/20\n",
      "16/16 [==============================] - 0s 29ms/step - loss: 0.7949 - accuracy: 0.8312 - val_loss: 1.0549 - val_accuracy: 0.7780\n",
      "Epoch 5/20\n",
      "16/16 [==============================] - 0s 25ms/step - loss: 0.6328 - accuracy: 0.8673 - val_loss: 0.9943 - val_accuracy: 0.7990\n",
      "Epoch 6/20\n",
      "16/16 [==============================] - 0s 30ms/step - loss: 0.4995 - accuracy: 0.8970 - val_loss: 0.9647 - val_accuracy: 0.7970\n",
      "Epoch 7/20\n",
      "16/16 [==============================] - 0s 26ms/step - loss: 0.4048 - accuracy: 0.9138 - val_loss: 0.9377 - val_accuracy: 0.8170\n",
      "Epoch 8/20\n",
      "16/16 [==============================] - 0s 26ms/step - loss: 0.3313 - accuracy: 0.9283 - val_loss: 0.9368 - val_accuracy: 0.8180\n",
      "Epoch 9/20\n",
      "16/16 [==============================] - 0s 26ms/step - loss: 0.2719 - accuracy: 0.9391 - val_loss: 0.9276 - val_accuracy: 0.8170\n",
      "Epoch 10/20\n",
      "16/16 [==============================] - 0s 29ms/step - loss: 0.2313 - accuracy: 0.9453 - val_loss: 0.9914 - val_accuracy: 0.8050\n",
      "Epoch 11/20\n",
      "16/16 [==============================] - 0s 26ms/step - loss: 0.2028 - accuracy: 0.9486 - val_loss: 0.9555 - val_accuracy: 0.8200\n",
      "Epoch 12/20\n",
      "16/16 [==============================] - 0s 26ms/step - loss: 0.1779 - accuracy: 0.9520 - val_loss: 0.9927 - val_accuracy: 0.8200\n",
      "Epoch 13/20\n",
      "16/16 [==============================] - 0s 29ms/step - loss: 0.1624 - accuracy: 0.9539 - val_loss: 1.0450 - val_accuracy: 0.8030\n",
      "Epoch 14/20\n",
      "16/16 [==============================] - 0s 28ms/step - loss: 0.1441 - accuracy: 0.9554 - val_loss: 1.1636 - val_accuracy: 0.7790\n",
      "Epoch 15/20\n",
      "16/16 [==============================] - 0s 26ms/step - loss: 0.1417 - accuracy: 0.9554 - val_loss: 1.0833 - val_accuracy: 0.7990\n",
      "Epoch 16/20\n",
      "16/16 [==============================] - 0s 26ms/step - loss: 0.1284 - accuracy: 0.9574 - val_loss: 1.0577 - val_accuracy: 0.8160\n",
      "Epoch 17/20\n",
      "16/16 [==============================] - 0s 29ms/step - loss: 0.1249 - accuracy: 0.9578 - val_loss: 1.1091 - val_accuracy: 0.7970\n",
      "Epoch 18/20\n",
      "16/16 [==============================] - 0s 26ms/step - loss: 0.1202 - accuracy: 0.9560 - val_loss: 1.1005 - val_accuracy: 0.8070\n",
      "Epoch 19/20\n",
      "16/16 [==============================] - 0s 26ms/step - loss: 0.1155 - accuracy: 0.9577 - val_loss: 1.1197 - val_accuracy: 0.8010\n",
      "Epoch 20/20\n",
      "16/16 [==============================] - 0s 24ms/step - loss: 0.1087 - accuracy: 0.9587 - val_loss: 1.1644 - val_accuracy: 0.8000\n"
     ]
    }
   ],
   "source": [
    "model.compile(optimizer=\"rmsprop\",loss=\"categorical_crossentropy\",metrics='accuracy')\n",
    "history = model.fit(partial_x_train,\n",
    "                    partial_y_trian,\n",
    "                    epochs=20,\n",
    "                    batch_size=512,\n",
    "                    validation_data= (x_val,y_val))\n"
   ]
  },
  {
   "attachments": {},
   "cell_type": "markdown",
   "metadata": {},
   "source": [
    "<h1>checking about overfitting and underfitting"
   ]
  },
  {
   "cell_type": "code",
   "execution_count": 58,
   "metadata": {},
   "outputs": [
    {
     "data": {
      "image/png": "[encoded data removed]",
      "text/plain": [
       "<Figure size 432x288 with 1 Axes>"
      ]
     },
     "metadata": {
      "needs_background": "light"
     },
     "output_type": "display_data"
    }
   ],
   "source": [
    "history_dic = history.history\n",
    "accuracy_values = history_dic[\"accuracy\"]\n",
    "validation_accuracy = history_dic[\"val_accuracy\"]\n",
    "epochs = range(1, len(history_dic['accuracy'])+1)\n",
    "plt.plot(epochs,accuracy_values,\"bo\", label = \"Training Acc\")\n",
    "plt.plot(epochs,validation_accuracy,\"b\", label = \"Validation Acc\")\n",
    "plt.xlabel(\"Epoches\")\n",
    "plt.ylabel('Loss')\n",
    "plt.legend()\n",
    "plt.show()"
   ]
  },
  {
   "attachments": {},
   "cell_type": "markdown",
   "metadata": {},
   "source": [
    "so from above graph we can see that validation accuracy is first decrease at 10 epoch"
   ]
  },
  {
   "cell_type": "code",
   "execution_count": 60,
   "metadata": {},
   "outputs": [
    {
     "data": {
      "text/html": [
       "<div>\n",
       "<style scoped>\n",
       "    .dataframe tbody tr th:only-of-type {\n",
       "        vertical-align: middle;\n",
       "    }\n",
       "\n",
       "    .dataframe tbody tr th {\n",
       "        vertical-align: top;\n",
       "    }\n",
       "\n",
       "    .dataframe thead th {\n",
       "        text-align: right;\n",
       "    }\n",
       "</style>\n",
       "<table border=\"1\" class=\"dataframe\">\n",
       "  <thead>\n",
       "    <tr style=\"text-align: right;\">\n",
       "      <th></th>\n",
       "      <th>loss</th>\n",
       "      <th>accuracy</th>\n",
       "      <th>val_loss</th>\n",
       "      <th>val_accuracy</th>\n",
       "    </tr>\n",
       "  </thead>\n",
       "  <tbody>\n",
       "    <tr>\n",
       "      <th>0</th>\n",
       "      <td>2.484611</td>\n",
       "      <td>0.550990</td>\n",
       "      <td>1.651831</td>\n",
       "      <td>0.665</td>\n",
       "    </tr>\n",
       "    <tr>\n",
       "      <th>1</th>\n",
       "      <td>1.349766</td>\n",
       "      <td>0.716863</td>\n",
       "      <td>1.275669</td>\n",
       "      <td>0.722</td>\n",
       "    </tr>\n",
       "    <tr>\n",
       "      <th>2</th>\n",
       "      <td>1.011530</td>\n",
       "      <td>0.781258</td>\n",
       "      <td>1.152619</td>\n",
       "      <td>0.741</td>\n",
       "    </tr>\n",
       "    <tr>\n",
       "      <th>3</th>\n",
       "      <td>0.794923</td>\n",
       "      <td>0.831245</td>\n",
       "      <td>1.054941</td>\n",
       "      <td>0.778</td>\n",
       "    </tr>\n",
       "    <tr>\n",
       "      <th>4</th>\n",
       "      <td>0.632773</td>\n",
       "      <td>0.867326</td>\n",
       "      <td>0.994266</td>\n",
       "      <td>0.799</td>\n",
       "    </tr>\n",
       "    <tr>\n",
       "      <th>5</th>\n",
       "      <td>0.499478</td>\n",
       "      <td>0.897018</td>\n",
       "      <td>0.964726</td>\n",
       "      <td>0.797</td>\n",
       "    </tr>\n",
       "    <tr>\n",
       "      <th>6</th>\n",
       "      <td>0.404842</td>\n",
       "      <td>0.913806</td>\n",
       "      <td>0.937744</td>\n",
       "      <td>0.817</td>\n",
       "    </tr>\n",
       "    <tr>\n",
       "      <th>7</th>\n",
       "      <td>0.331265</td>\n",
       "      <td>0.928339</td>\n",
       "      <td>0.936821</td>\n",
       "      <td>0.818</td>\n",
       "    </tr>\n",
       "    <tr>\n",
       "      <th>8</th>\n",
       "      <td>0.271938</td>\n",
       "      <td>0.939113</td>\n",
       "      <td>0.927609</td>\n",
       "      <td>0.817</td>\n",
       "    </tr>\n",
       "    <tr>\n",
       "      <th>9</th>\n",
       "      <td>0.231264</td>\n",
       "      <td>0.945252</td>\n",
       "      <td>0.991357</td>\n",
       "      <td>0.805</td>\n",
       "    </tr>\n",
       "    <tr>\n",
       "      <th>10</th>\n",
       "      <td>0.202850</td>\n",
       "      <td>0.948634</td>\n",
       "      <td>0.955499</td>\n",
       "      <td>0.820</td>\n",
       "    </tr>\n",
       "    <tr>\n",
       "      <th>11</th>\n",
       "      <td>0.177945</td>\n",
       "      <td>0.952017</td>\n",
       "      <td>0.992683</td>\n",
       "      <td>0.820</td>\n",
       "    </tr>\n",
       "    <tr>\n",
       "      <th>12</th>\n",
       "      <td>0.162392</td>\n",
       "      <td>0.953896</td>\n",
       "      <td>1.045036</td>\n",
       "      <td>0.803</td>\n",
       "    </tr>\n",
       "    <tr>\n",
       "      <th>13</th>\n",
       "      <td>0.144061</td>\n",
       "      <td>0.955400</td>\n",
       "      <td>1.163642</td>\n",
       "      <td>0.779</td>\n",
       "    </tr>\n",
       "    <tr>\n",
       "      <th>14</th>\n",
       "      <td>0.141692</td>\n",
       "      <td>0.955400</td>\n",
       "      <td>1.083294</td>\n",
       "      <td>0.799</td>\n",
       "    </tr>\n",
       "    <tr>\n",
       "      <th>15</th>\n",
       "      <td>0.128445</td>\n",
       "      <td>0.957404</td>\n",
       "      <td>1.057708</td>\n",
       "      <td>0.816</td>\n",
       "    </tr>\n",
       "    <tr>\n",
       "      <th>16</th>\n",
       "      <td>0.124870</td>\n",
       "      <td>0.957780</td>\n",
       "      <td>1.109135</td>\n",
       "      <td>0.797</td>\n",
       "    </tr>\n",
       "    <tr>\n",
       "      <th>17</th>\n",
       "      <td>0.120249</td>\n",
       "      <td>0.956026</td>\n",
       "      <td>1.100485</td>\n",
       "      <td>0.807</td>\n",
       "    </tr>\n",
       "    <tr>\n",
       "      <th>18</th>\n",
       "      <td>0.115506</td>\n",
       "      <td>0.957655</td>\n",
       "      <td>1.119687</td>\n",
       "      <td>0.801</td>\n",
       "    </tr>\n",
       "    <tr>\n",
       "      <th>19</th>\n",
       "      <td>0.108704</td>\n",
       "      <td>0.958657</td>\n",
       "      <td>1.164420</td>\n",
       "      <td>0.800</td>\n",
       "    </tr>\n",
       "  </tbody>\n",
       "</table>\n",
       "</div>"
      ],
      "text/plain": [
       "        loss  accuracy  val_loss  val_accuracy\n",
       "0   2.484611  0.550990  1.651831         0.665\n",
       "1   1.349766  0.716863  1.275669         0.722\n",
       "2   1.011530  0.781258  1.152619         0.741\n",
       "3   0.794923  0.831245  1.054941         0.778\n",
       "4   0.632773  0.867326  0.994266         0.799\n",
       "5   0.499478  0.897018  0.964726         0.797\n",
       "6   0.404842  0.913806  0.937744         0.817\n",
       "7   0.331265  0.928339  0.936821         0.818\n",
       "8   0.271938  0.939113  0.927609         0.817\n",
       "9   0.231264  0.945252  0.991357         0.805\n",
       "10  0.202850  0.948634  0.955499         0.820\n",
       "11  0.177945  0.952017  0.992683         0.820\n",
       "12  0.162392  0.953896  1.045036         0.803\n",
       "13  0.144061  0.955400  1.163642         0.779\n",
       "14  0.141692  0.955400  1.083294         0.799\n",
       "15  0.128445  0.957404  1.057708         0.816\n",
       "16  0.124870  0.957780  1.109135         0.797\n",
       "17  0.120249  0.956026  1.100485         0.807\n",
       "18  0.115506  0.957655  1.119687         0.801\n",
       "19  0.108704  0.958657  1.164420         0.800"
      ]
     },
     "execution_count": 60,
     "metadata": {},
     "output_type": "execute_result"
    }
   ],
   "source": [
    "import pandas as pd\n",
    "p = pd.DataFrame(history_dic)\n",
    "p"
   ]
  },
  {
   "attachments": {},
   "cell_type": "markdown",
   "metadata": {},
   "source": [
    "training the model till 9 epochs as till 9 epoch the loss "
   ]
  },
  {
   "cell_type": "code",
   "execution_count": 13,
   "metadata": {},
   "outputs": [
    {
     "name": "stdout",
     "output_type": "stream",
     "text": [
      "Epoch 1/9\n",
      "16/16 [==============================] - 1s 47ms/step - loss: 2.8009 - accuracy: 0.4955 - val_loss: 1.8338 - val_accuracy: 0.6250\n",
      "Epoch 2/9\n",
      "16/16 [==============================] - 1s 38ms/step - loss: 1.5266 - accuracy: 0.6818 - val_loss: 1.3994 - val_accuracy: 0.6810\n",
      "Epoch 3/9\n",
      "16/16 [==============================] - 1s 40ms/step - loss: 1.1646 - accuracy: 0.7477 - val_loss: 1.2072 - val_accuracy: 0.7340\n",
      "Epoch 4/9\n",
      "16/16 [==============================] - 0s 31ms/step - loss: 0.9475 - accuracy: 0.7978 - val_loss: 1.1113 - val_accuracy: 0.7550\n",
      "Epoch 5/9\n",
      "16/16 [==============================] - 0s 28ms/step - loss: 0.7848 - accuracy: 0.8295 - val_loss: 0.9949 - val_accuracy: 0.7810\n",
      "Epoch 6/9\n",
      "16/16 [==============================] - 0s 29ms/step - loss: 0.6510 - accuracy: 0.8582 - val_loss: 0.9424 - val_accuracy: 0.7950\n",
      "Epoch 7/9\n",
      "16/16 [==============================] - 0s 29ms/step - loss: 0.5382 - accuracy: 0.8831 - val_loss: 0.8951 - val_accuracy: 0.8030\n",
      "Epoch 8/9\n",
      "16/16 [==============================] - 1s 32ms/step - loss: 0.4517 - accuracy: 0.9033 - val_loss: 0.8765 - val_accuracy: 0.8030\n",
      "Epoch 9/9\n",
      "16/16 [==============================] - 0s 31ms/step - loss: 0.3821 - accuracy: 0.9166 - val_loss: 0.8672 - val_accuracy: 0.8100\n",
      "71/71 [==============================] - 0s 3ms/step - loss: 0.9528 - accuracy: 0.7872\n"
     ]
    }
   ],
   "source": [
    "model = models.Sequential()\n",
    "model.add(layers.Dense(64, activation = \"relu\",input_shape= (10000,)))\n",
    "model.add(layers.Dense(64 , activation = \"relu\"))\n",
    "model.add(layers.Dense(46 , activation = \"softmax\"))\n",
    "model.compile(optimizer=\"rmsprop\",loss=\"categorical_crossentropy\",metrics='accuracy')\n",
    "history = model.fit(partial_x_train,\n",
    "                    partial_y_trian,\n",
    "                    epochs=9,\n",
    "                    batch_size=512,\n",
    "                    validation_data= (x_val,y_val))\n",
    "re = model.evaluate(x_test,one_hot_test_label)"
   ]
  },
  {
   "attachments": {},
   "cell_type": "markdown",
   "metadata": {},
   "source": [
    "again making the graph"
   ]
  },
  {
   "cell_type": "code",
   "execution_count": 14,
   "metadata": {},
   "outputs": [
    {
     "data": {
      "image/png": "[encoded data removed]",
      "text/plain": [
       "<Figure size 432x288 with 1 Axes>"
      ]
     },
     "metadata": {
      "needs_background": "light"
     },
     "output_type": "display_data"
    }
   ],
   "source": [
    "history_dic = history.history\n",
    "accuracy_values = history_dic[\"accuracy\"]\n",
    "validation_accuracy = history_dic[\"val_accuracy\"]\n",
    "epochs = range(1, len(history_dic['accuracy'])+1)\n",
    "plt.plot(epochs,accuracy_values,\"bo\", label = \"Training Acc\")\n",
    "plt.plot(epochs,validation_accuracy,\"b\", label = \"Validation Acc\")\n",
    "plt.xlabel(\"Epoches\")\n",
    "plt.ylabel('Loss')\n",
    "plt.legend()\n",
    "plt.show()"
   ]
  },
  {
   "attachments": {},
   "cell_type": "markdown",
   "metadata": {},
   "source": [
    "now it is better so we giv it new data to check"
   ]
  },
  {
   "attachments": {},
   "cell_type": "markdown",
   "metadata": {},
   "source": [
    "this give the probabilty of the given text to belong to some specific category"
   ]
  },
  {
   "cell_type": "code",
   "execution_count": 15,
   "metadata": {},
   "outputs": [
    {
     "name": "stdout",
     "output_type": "stream",
     "text": [
      "71/71 [==============================] - 0s 3ms/step\n",
      "0 2.1291233e-05\n",
      "1 0.00035671072\n",
      "2 0.00013691135\n",
      "3 0.84754235\n",
      "4 0.14004757\n",
      "5 0.0003902031\n",
      "6 0.00024587888\n",
      "7 6.94796e-06\n",
      "8 0.0024906627\n",
      "9 3.6328165e-05\n",
      "10 0.00010319021\n",
      "11 0.0008339743\n",
      "12 7.4984106e-05\n",
      "13 0.0010277223\n",
      "14 0.00022525598\n",
      "15 6.696559e-05\n",
      "16 0.00089671294\n",
      "17 0.00025098035\n",
      "18 1.0300267e-05\n",
      "19 0.0007650053\n",
      "20 0.00060233154\n",
      "21 0.000104803315\n",
      "22 4.0804403e-05\n",
      "23 0.00021218555\n",
      "24 7.766293e-05\n",
      "25 7.491056e-05\n",
      "26 2.4544886e-05\n",
      "27 6.387982e-05\n",
      "28 0.00016808519\n",
      "29 0.00016372568\n",
      "30 0.00041436468\n",
      "31 1.6413223e-05\n",
      "32 4.5973193e-05\n",
      "33 8.587739e-06\n",
      "34 2.9657465e-06\n",
      "35 1.563408e-06\n",
      "36 0.00150794\n",
      "37 9.741523e-05\n",
      "38 3.2584798e-05\n",
      "39 0.0006095142\n",
      "40 1.3107058e-05\n",
      "41 0.00016521702\n",
      "42 1.6169233e-06\n",
      "43 4.444549e-06\n",
      "44 3.3199142e-06\n",
      "45 1.2074544e-05\n"
     ]
    }
   ],
   "source": [
    "pre = model.predict(x_test)\n",
    "for i in range(0,len(pre[0])):\n",
    "    print(i, pre[0][i])"
   ]
  },
  {
   "attachments": {},
   "cell_type": "markdown",
   "metadata": {},
   "source": [
    "<h1> Saving the Model into pkl"
   ]
  },
  {
   "cell_type": "code",
   "execution_count": 108,
   "metadata": {},
   "outputs": [
    {
     "name": "stdout",
     "output_type": "stream",
     "text": [
      "WARNING:tensorflow:AutoGraph could not transform <function trace_model_call.<locals>._wrapped_model at 0x0000024900B39C10> and will run it as-is.\n",
      "Cause: Unable to locate the source code of <function trace_model_call.<locals>._wrapped_model at 0x0000024900B39C10>. Note that functions defined in certain environments, like the interactive Python shell, do not expose their source code. If that is the case, you should define them in a .py source file. If you are certain the code is graph-compatible, wrap the call using @tf.autograph.experimental.do_not_convert. Original error: could not get source code\n",
      "To silence this warning, decorate the function with @tf.autograph.experimental.do_not_convert\n",
      "WARNING: AutoGraph could not transform <function trace_model_call.<locals>._wrapped_model at 0x0000024900B39C10> and will run it as-is.\n",
      "Cause: Unable to locate the source code of <function trace_model_call.<locals>._wrapped_model at 0x0000024900B39C10>. Note that functions defined in certain environments, like the interactive Python shell, do not expose their source code. If that is the case, you should define them in a .py source file. If you are certain the code is graph-compatible, wrap the call using @tf.autograph.experimental.do_not_convert. Original error: could not get source code\n",
      "To silence this warning, decorate the function with @tf.autograph.experimental.do_not_convert\n",
      "INFO:tensorflow:Assets written to: Reuters.pkl\\assets\n"
     ]
    }
   ],
   "source": [
    "from keras import models\n",
    "model.save(\"Reuters.pkl\")"
   ]
  },
  {
   "attachments": {},
   "cell_type": "markdown",
   "metadata": {},
   "source": [
    "np.argmax is giving the index with the highest probability"
   ]
  },
  {
   "cell_type": "code",
   "execution_count": 17,
   "metadata": {},
   "outputs": [
    {
     "data": {
      "text/plain": [
       "3"
      ]
     },
     "execution_count": 17,
     "metadata": {},
     "output_type": "execute_result"
    }
   ],
   "source": [
    "np.argmax(pre[0])"
   ]
  },
  {
   "cell_type": "code",
   "execution_count": 19,
   "metadata": {},
   "outputs": [
    {
     "name": "stdout",
     "output_type": "stream",
     "text": [
      "0.00002129\n",
      "0.00035671\n",
      "0.00013691\n",
      "0.84754235\n",
      "0.14004757\n",
      "0.00039020\n",
      "0.00024588\n",
      "0.00000695\n",
      "0.00249066\n",
      "0.00003633\n",
      "0.00010319\n",
      "0.00083397\n",
      "0.00007498\n",
      "0.00102772\n",
      "0.00022526\n",
      "0.00006697\n",
      "0.00089671\n",
      "0.00025098\n",
      "0.00001030\n",
      "0.00076501\n",
      "0.00060233\n",
      "0.00010480\n",
      "0.00004080\n",
      "0.00021219\n",
      "0.00007766\n",
      "0.00007491\n",
      "0.00002454\n",
      "0.00006388\n",
      "0.00016809\n",
      "0.00016373\n",
      "0.00041436\n",
      "0.00001641\n",
      "0.00004597\n",
      "0.00000859\n",
      "0.00000297\n",
      "0.00000156\n",
      "0.00150794\n",
      "0.00009742\n",
      "0.00003258\n",
      "0.00060951\n",
      "0.00001311\n",
      "0.00016522\n",
      "0.00000162\n",
      "0.00000444\n",
      "0.00000332\n",
      "0.00001207\n",
      "49.219209\n"
     ]
    }
   ],
   "source": [
    "for i in pre[0]:\n",
    "    print(\"{:.8f}\".format(i))\n",
    "print(0.49219209*100)"
   ]
  },
  {
   "attachments": {},
   "cell_type": "markdown",
   "metadata": {},
   "source": [
    "<h1>This is the list of the categories along with the index</h1>\n",
    "\"Business and financial\",\n",
    "\"aluminum market\",\n",
    "\"barley market\",\n",
    "\"balance of payments\",\n",
    "\"meat markets\",\n",
    "'castor-oil market',\n",
    "\"cocoa industry\",\n",
    "\"coconut market\",\n",
    "\"coffee market\",\n",
    "\"copper market\",\n",
    "\"corn market\",\n",
    "\"cotton market\",\n",
    "\"consumer price index and inflation\",\n",
    "'crude market',\n",
    "\"german currency\",\n",
    "\"US dollar foreign\",\n",
    "\"German currency\",\n",
    "\"earn\",\n",
    "'fuel market',\n",
    "'gas market',\n",
    "'gross prodcution',\n",
    "'gold market',\n",
    "'grain market',\n",
    "'oil market',\n",
    "'hog market',\n",
    "\"housing market\",\n",
    "\"income n earning\",\n",
    "\"interest rates\",\n",
    "\"industrial production\",\n",
    "\"iron-steel\",\n",
    "\"jet market\",\n",
    "\"jobs market\",\n",
    "\"lead market\",\n",
    "\"leading economy indicators\",\n",
    "\"livestock market\",\n",
    "\"lumber market\",\n",
    "\"meal-feed\",\n",
    "\"money-fx\",\n",
    "\"nickel market\",\n",
    "\"orange market\",\n",
    "\"petro-chemical\",\n",
    "\"platinum market\",\n",
    "\"rapeseed\",\n",
    "\"reserves bank\",\n",
    "\"retail\",\n",
    "\"rice market\""
   ]
  },
  {
   "attachments": {},
   "cell_type": "markdown",
   "metadata": {},
   "source": [
    "making the list of the categories"
   ]
  },
  {
   "cell_type": "code",
   "execution_count": 20,
   "metadata": {},
   "outputs": [],
   "source": [
    "articlelist = [\"Business and financial\",\n",
    "\"aluminum market\",\n",
    "\"barley market\",\n",
    "\"balance of payments\",\n",
    "\"meat markets\",\n",
    "'castor-oil market',\n",
    "\"cocoa industry\",\n",
    "\"coconut market\",\n",
    "\"coffee market\",\n",
    "\"copper market\",\n",
    "\"corn market\",\n",
    "\"cotton market\",\n",
    "\"consumer price index and inflation\",\n",
    "'crude market',\n",
    "\"german currency\",\n",
    "\"US dollar foreign\",\n",
    "\"German currency\",\n",
    "\"earn\",\n",
    "'fuel market',\n",
    "'gas market',\n",
    "'gross prodcution',\n",
    "'gold market',\n",
    "'grain market',\n",
    "'oil market',\n",
    "'hog market',\n",
    "\"housing market\",\n",
    "\"income n earning\",\n",
    "\"interest rates\",\n",
    "\"industrial production\",\n",
    "\"iron-steel\",\n",
    "\"jet market\",\n",
    "\"jobs market\",\n",
    "\"lead market\",\n",
    "\"leading economy indicators\",\n",
    "\"livestock market\",\n",
    "\"lumber market\",\n",
    "\"meal-feed\",\n",
    "\"money-fx\",\n",
    "\"nickel market\",\n",
    "\"orange market\",\n",
    "\"petro-chemical\",\n",
    "\"platinum market\",\n",
    "\"rapeseed\",\n",
    "\"reserves bank\",\n",
    "\"retail\",\n",
    "\"rice market\"]\n"
   ]
  },
  {
   "attachments": {},
   "cell_type": "markdown",
   "metadata": {},
   "source": [
    "making the dic of it"
   ]
  },
  {
   "cell_type": "code",
   "execution_count": 64,
   "metadata": {},
   "outputs": [
    {
     "data": {
      "text/plain": [
       "{0: 'Business and financial',\n",
       " 1: 'aluminum market',\n",
       " 2: 'barley market',\n",
       " 3: 'balance of payments',\n",
       " 4: 'meat markets',\n",
       " 5: 'castor-oil market',\n",
       " 6: 'cocoa industry',\n",
       " 7: 'coconut market',\n",
       " 8: 'coffee market',\n",
       " 9: 'copper market',\n",
       " 10: 'corn market',\n",
       " 11: 'cotton market',\n",
       " 12: 'consumer price index and inflation',\n",
       " 13: 'crude market',\n",
       " 14: 'german currency',\n",
       " 15: 'US dollar foreign',\n",
       " 16: 'German currency',\n",
       " 17: 'earn',\n",
       " 18: 'fuel market',\n",
       " 19: 'gas market',\n",
       " 20: 'gross prodcution',\n",
       " 21: 'gold market',\n",
       " 22: 'grain market',\n",
       " 23: 'oil market',\n",
       " 24: 'hog market',\n",
       " 25: 'housing market',\n",
       " 26: 'income n earning',\n",
       " 27: 'interest rates',\n",
       " 28: 'industrial production',\n",
       " 29: 'iron-steel',\n",
       " 30: 'jet market',\n",
       " 31: 'jobs market',\n",
       " 32: 'lead market',\n",
       " 33: 'leading economy indicators',\n",
       " 34: 'livestock market',\n",
       " 35: 'lumber market',\n",
       " 36: 'meal-feed',\n",
       " 37: 'money-fx',\n",
       " 38: 'nickel market',\n",
       " 39: 'orange market',\n",
       " 40: 'petro-chemical',\n",
       " 41: 'platinum market',\n",
       " 42: 'rapeseed',\n",
       " 43: 'reserves bank',\n",
       " 44: 'retail',\n",
       " 45: 'rice market'}"
      ]
     },
     "execution_count": 64,
     "metadata": {},
     "output_type": "execute_result"
    }
   ],
   "source": [
    "article_dic = {index : value for index , value in enumerate(articlelist)}\n",
    "article_dic\n"
   ]
  },
  {
   "attachments": {},
   "cell_type": "markdown",
   "metadata": {},
   "source": [
    "then matching the index with the key of the dic to get the category to show"
   ]
  },
  {
   "cell_type": "code",
   "execution_count": 22,
   "metadata": {},
   "outputs": [
    {
     "name": "stdout",
     "output_type": "stream",
     "text": [
      "this articel belongs to this categoty -> aluminum market  about  76.35037899017334 percent\n"
     ]
    }
   ],
   "source": [
    "articlenumber = np.argmax(pre[2])\n",
    "print(\"this articel belongs to this categoty ->\",article_dic[articlenumber],\" about \",pre[2][articlenumber]*100 ,\"percent\")\n"
   ]
  },
  {
   "attachments": {},
   "cell_type": "markdown",
   "metadata": {},
   "source": [
    "<h1>Code to give custome string"
   ]
  },
  {
   "cell_type": "code",
   "execution_count": 25,
   "metadata": {},
   "outputs": [],
   "source": [
    "#loading the model for checking\n",
    "from keras.models import load_model\n",
    "m = load_model(\"E:\\Mehroz Personals\\PIAIC\\Second Time Admission\\AI\\Quater 2\\PIaic Learning\\Deep Learning\\Chapter3\\Reuters Review\\Reuters Implmented Fully\\models\\Reuters.pkl\")"
   ]
  },
  {
   "cell_type": "code",
   "execution_count": 29,
   "metadata": {},
   "outputs": [],
   "source": [
    "from keras.preprocessing.text import Tokenizer\n",
    "def custome_data(text):\n",
    "    max= 10000\n",
    "    tok = Tokenizer(num_words=max)\n",
    "    tok.fit_on_texts([text])\n",
    "    s = tok.texts_to_sequences([text])\n",
    "    x = vectorizing(s,dimension=max)\n",
    "    p = m.predict(x)\n",
    "    storing_the_index_of_highest_value = np.argmax(p)\n",
    "    highes_value = p[0][storing_the_index_of_highest_value]\n",
    "    print(\"this articel belongs to this categoty ->\",article_dic[storing_the_index_of_highest_value],\" about \",highes_value*100 ,\"percent\")\n",
    "    print(\"\\n\",p,highes_value,storing_the_index_of_highest_value)\n",
    "\n"
   ]
  },
  {
   "cell_type": "code",
   "execution_count": 38,
   "metadata": {},
   "outputs": [
    {
     "name": "stdout",
     "output_type": "stream",
     "text": [
      "1/1 [==============================] - 0s 21ms/step\n",
      "this articel belongs to this categoty -> balance of payments  about  43.7539279460907 percent\n",
      "\n",
      " [[1.7884548e-04 9.2805764e-03 3.5359198e-04 4.3753928e-01 3.5680684e-01\n",
      "  5.7588145e-04 1.1224701e-03 3.3356872e-04 7.2896862e-03 7.3355873e-04\n",
      "  1.8137132e-03 2.0936880e-02 5.5720774e-04 1.2674523e-03 7.2255422e-04\n",
      "  2.8347445e-04 6.6422641e-02 3.5832514e-04 2.4867987e-03 6.0634665e-02\n",
      "  1.0106148e-02 5.0887780e-04 8.6641079e-04 5.9977785e-04 2.1569387e-03\n",
      "  4.8346590e-04 9.9245422e-05 9.9792196e-05 5.8724673e-04 6.6092733e-04\n",
      "  3.5344349e-04 2.8727013e-03 4.3180733e-04 3.1406307e-05 3.1783078e-03\n",
      "  1.8931840e-05 4.1292268e-03 2.9553255e-04 2.7698741e-04 6.3008390e-04\n",
      "  3.1150045e-04 1.3151213e-03 4.6912690e-05 1.3462320e-04 6.5614484e-05\n",
      "  4.0963110e-05]] 0.43753928 3\n"
     ]
    }
   ],
   "source": [
    "t = \"War is a destructive and violent conflict between groups or nations. It often involves large-scale fighting and can result in significant loss of life, physical damage to infrastructure and property, and long-term social and economic consequences. Wars can be fought for a variety of reasons, such as the pursuit of power or resources, ideological differences, or the defense of national sovereignty. They can be sparked by a single event or issue, or can arise from long-standing tensions and historical grievances. The human cost of war can be immense, with civilians often bearing the brunt of the violence and displacement. Despite efforts to prevent war and promote peace, conflict continues to be a major challenge facing the world today.\"\n",
    "custome_data(t)"
   ]
  },
  {
   "cell_type": "code",
   "execution_count": 73,
   "metadata": {},
   "outputs": [],
   "source": [
    "def custome_data2(text):\n",
    "    max= 10000\n",
    "    tok = Tokenizer(num_words=max)\n",
    "    tok.fit_on_texts([text])\n",
    "    s = tok.texts_to_sequences([text])\n",
    "    x = vectorizing(s,dimension=max)\n",
    "    p = m.predict(x)\n",
    "    for i in p[0]:\n",
    "           print(round(i*100,2))\n",
    "        "
   ]
  },
  {
   "cell_type": "code",
   "execution_count": 74,
   "metadata": {},
   "outputs": [
    {
     "name": "stdout",
     "output_type": "stream",
     "text": [
      "1/1 [==============================] - 0s 22ms/step\n",
      "0.02\n",
      "0.93\n",
      "0.04\n",
      "43.75\n",
      "35.68\n",
      "0.06\n",
      "0.11\n",
      "0.03\n",
      "0.73\n",
      "0.07\n",
      "0.18\n",
      "2.09\n",
      "0.06\n",
      "0.13\n",
      "0.07\n",
      "0.03\n",
      "6.64\n",
      "0.04\n",
      "0.25\n",
      "6.06\n",
      "1.01\n",
      "0.05\n",
      "0.09\n",
      "0.06\n",
      "0.22\n",
      "0.05\n",
      "0.01\n",
      "0.01\n",
      "0.06\n",
      "0.07\n",
      "0.04\n",
      "0.29\n",
      "0.04\n",
      "0.0\n",
      "0.32\n",
      "0.0\n",
      "0.41\n",
      "0.03\n",
      "0.03\n",
      "0.06\n",
      "0.03\n",
      "0.13\n",
      "0.0\n",
      "0.01\n",
      "0.01\n",
      "0.0\n"
     ]
    }
   ],
   "source": [
    "t = \"War is a destructive and violent conflict between groups or nations. It often involves large-scale fighting and can result in significant loss of life, physical damage to infrastructure and property, and long-term social and economic consequences. Wars can be fought for a variety of reasons, such as the pursuit of power or resources, ideological differences, or the defense of national sovereignty. They can be sparked by a single event or issue, or can arise from long-standing tensions and historical grievances. The human cost of war can be immense, with civilians often bearing the brunt of the violence and displacement. Despite efforts to prevent war and promote peace, conflict continues to be a major challenge facing the world today.\"\n",
    "custome_data2(t)"
   ]
  },
  {
   "cell_type": "code",
   "execution_count": 68,
   "metadata": {},
   "outputs": [
    {
     "name": "stdout",
     "output_type": "stream",
     "text": [
      "0 value1\n",
      "1 value2\n",
      "2 value3\n"
     ]
    }
   ],
   "source": [
    "my_dict = {0: \"value1\", 1: \"value2\", 2: \"value3\"}\n",
    "\n",
    "for key in my_dict:\n",
    "    print(key, my_dict[key])\n"
   ]
  }
 ],
 "metadata": {
  "kernelspec": {
   "display_name": "base",
   "language": "python",
   "name": "python3"
  },
  "language_info": {
   "codemirror_mode": {
    "name": "ipython",
    "version": 3
   },
   "file_extension": ".py",
   "mimetype": "text/x-python",
   "name": "python",
   "nbconvert_exporter": "python",
   "pygments_lexer": "ipython3",
   "version": "3.9.12"
  },
  "orig_nbformat": 4
 },
 "nbformat": 4,
 "nbformat_minor": 2
}
